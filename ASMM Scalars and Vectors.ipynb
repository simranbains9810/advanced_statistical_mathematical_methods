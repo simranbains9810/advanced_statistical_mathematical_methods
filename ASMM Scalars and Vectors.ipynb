{
 "cells": [
  {
   "cell_type": "code",
   "execution_count": 1,
   "id": "3d001e2b",
   "metadata": {},
   "outputs": [],
   "source": [
    "import numpy as np"
   ]
  },
  {
   "cell_type": "code",
   "execution_count": 4,
   "id": "139d1e61",
   "metadata": {},
   "outputs": [
    {
     "name": "stdout",
     "output_type": "stream",
     "text": [
      "[1 2 3]\n"
     ]
    }
   ],
   "source": [
    "a = np.array([1,2,3])\n",
    "print (a)"
   ]
  },
  {
   "cell_type": "code",
   "execution_count": 5,
   "id": "afaf0c60",
   "metadata": {},
   "outputs": [],
   "source": [
    "b = np.random.randn(2)"
   ]
  },
  {
   "cell_type": "markdown",
   "id": "602687ec",
   "metadata": {},
   "source": [
    "Array of arrays"
   ]
  },
  {
   "cell_type": "code",
   "execution_count": 7,
   "id": "bac67bb0",
   "metadata": {},
   "outputs": [
    {
     "data": {
      "text/plain": [
       "array([[1, 2, 3],\n",
       "       [4, 5, 6]])"
      ]
     },
     "execution_count": 7,
     "metadata": {},
     "output_type": "execute_result"
    }
   ],
   "source": [
    "np.array([[1,2,3],[4,5,6]])"
   ]
  },
  {
   "cell_type": "code",
   "execution_count": 8,
   "id": "569433a2",
   "metadata": {},
   "outputs": [],
   "source": [
    "c = np.random.randn(2,3)"
   ]
  },
  {
   "cell_type": "code",
   "execution_count": 9,
   "id": "2f0404d2",
   "metadata": {},
   "outputs": [
    {
     "data": {
      "text/plain": [
       "array([[-1.41527676,  0.66842417, -0.31511452],\n",
       "       [-0.54589986,  0.10173452, -0.56594276]])"
      ]
     },
     "execution_count": 9,
     "metadata": {},
     "output_type": "execute_result"
    }
   ],
   "source": [
    "c"
   ]
  },
  {
   "cell_type": "code",
   "execution_count": 10,
   "id": "9ab0cf76",
   "metadata": {},
   "outputs": [
    {
     "data": {
      "text/plain": [
       "(2, 3)"
      ]
     },
     "execution_count": 10,
     "metadata": {},
     "output_type": "execute_result"
    }
   ],
   "source": [
    "c.shape"
   ]
  },
  {
   "cell_type": "markdown",
   "id": "ce25add1",
   "metadata": {},
   "source": [
    "formative"
   ]
  },
  {
   "cell_type": "code",
   "execution_count": 11,
   "id": "d9f1a118",
   "metadata": {},
   "outputs": [
    {
     "data": {
      "text/plain": [
       "array([[ 3,  2],\n",
       "       [-4,  1]])"
      ]
     },
     "execution_count": 11,
     "metadata": {},
     "output_type": "execute_result"
    }
   ],
   "source": [
    "np.array([[3,2],[-4,1]])"
   ]
  },
  {
   "cell_type": "code",
   "execution_count": 14,
   "id": "0d8b6536",
   "metadata": {},
   "outputs": [
    {
     "name": "stdout",
     "output_type": "stream",
     "text": [
      "[-10]\n"
     ]
    }
   ],
   "source": [
    "A = np.array([[3,2]])\n",
    "b = np.array([-4,1])\n",
    "c = A@b\n",
    "print(c)"
   ]
  },
  {
   "cell_type": "code",
   "execution_count": 15,
   "id": "d5c67a7e",
   "metadata": {},
   "outputs": [
    {
     "name": "stdout",
     "output_type": "stream",
     "text": [
      "-10\n"
     ]
    }
   ],
   "source": [
    "u_1 = np.array([3,2])\n",
    "u_2 = np.array([-4,1])\n",
    "u_3 = np.dot(u_1,u_2)\n",
    "print(u_3)"
   ]
  },
  {
   "cell_type": "markdown",
   "id": "9a7e5822",
   "metadata": {},
   "source": [
    "Determinants"
   ]
  },
  {
   "cell_type": "code",
   "execution_count": 1,
   "id": "561ff7e4",
   "metadata": {},
   "outputs": [
    {
     "name": "stdout",
     "output_type": "stream",
     "text": [
      "-2.0000000000000004\n"
     ]
    }
   ],
   "source": [
    "import numpy as np\n",
    "\n",
    "a = np.array([[1, 2], [3, 4]])\n",
    "\n",
    "d = np.linalg.det(a)\n",
    "\n",
    "print(d)"
   ]
  },
  {
   "cell_type": "markdown",
   "id": "365b8f57",
   "metadata": {},
   "source": [
    "# **Module 2 Exercises**"
   ]
  },
  {
   "cell_type": "code",
   "execution_count": 3,
   "id": "69959609",
   "metadata": {},
   "outputs": [],
   "source": [
    "import numpy as np"
   ]
  },
  {
   "cell_type": "code",
   "execution_count": 4,
   "id": "f01124c5",
   "metadata": {},
   "outputs": [
    {
     "name": "stdout",
     "output_type": "stream",
     "text": [
      "[3 9 9]\n"
     ]
    }
   ],
   "source": [
    "A = np.array([[1,0,2],[3,1,4],[4,2,1]])\n",
    "b = np.array([1,2,1])\n",
    "c = A@b\n",
    "print(c)"
   ]
  },
  {
   "cell_type": "code",
   "execution_count": 5,
   "id": "fe3914cd",
   "metadata": {},
   "outputs": [
    {
     "name": "stdout",
     "output_type": "stream",
     "text": [
      "[[ 6  9  7]\n",
      " [14 21 18]\n",
      " [10 12 16]]\n"
     ]
    }
   ],
   "source": [
    "B = np.array([[2,1,3],[0,2,1],[2,4,2]])\n",
    "C = A@B\n",
    "print(C)"
   ]
  },
  {
   "cell_type": "code",
   "execution_count": 6,
   "id": "232aae99",
   "metadata": {},
   "outputs": [
    {
     "name": "stdout",
     "output_type": "stream",
     "text": [
      "-2.9999999999999996\n"
     ]
    }
   ],
   "source": [
    "det_a = np.linalg.det(A)\n",
    "print(det_a)"
   ]
  },
  {
   "cell_type": "code",
   "execution_count": 7,
   "id": "51d68a20",
   "metadata": {},
   "outputs": [
    {
     "name": "stdout",
     "output_type": "stream",
     "text": [
      "[[-2.   1. ]\n",
      " [ 1.5 -0.5]]\n"
     ]
    }
   ],
   "source": [
    "D = np.array([[1,2],[3,4]])\n",
    "invD = np.linalg.inv(D)\n",
    "print(invD)"
   ]
  },
  {
   "cell_type": "code",
   "execution_count": 8,
   "id": "2ae3f25c",
   "metadata": {},
   "outputs": [
    {
     "name": "stdout",
     "output_type": "stream",
     "text": [
      "70\n"
     ]
    }
   ],
   "source": [
    "u_1 = np.array([1,2,3,4])\n",
    "u_2 = np.array([5,6,7,8])\n",
    "u_3 = np.dot(u_1,u_2)\n",
    "print(u_3)"
   ]
  },
  {
   "cell_type": "markdown",
   "id": "790b1c7e",
   "metadata": {},
   "source": [
    "# **Module 2 Python Exercise**"
   ]
  },
  {
   "cell_type": "code",
   "execution_count": 1,
   "id": "3550702c",
   "metadata": {},
   "outputs": [],
   "source": [
    "import numpy as np"
   ]
  },
  {
   "cell_type": "markdown",
   "id": "b8060090",
   "metadata": {},
   "source": [
    "Question 2"
   ]
  },
  {
   "cell_type": "code",
   "execution_count": 2,
   "id": "52658c84",
   "metadata": {},
   "outputs": [
    {
     "name": "stdout",
     "output_type": "stream",
     "text": [
      "[3 9 9]\n"
     ]
    }
   ],
   "source": [
    "A = np.array([[1,0,2],[3,1,4],[4,2,1]])\n",
    "b = np.array([1,2,1])\n",
    "c = A@b\n",
    "print(c)"
   ]
  },
  {
   "cell_type": "markdown",
   "id": "3877a2b5",
   "metadata": {},
   "source": [
    "Question 3"
   ]
  },
  {
   "cell_type": "code",
   "execution_count": 3,
   "id": "758cf221",
   "metadata": {},
   "outputs": [
    {
     "name": "stdout",
     "output_type": "stream",
     "text": [
      "[[ 6  9  7]\n",
      " [14 21 18]\n",
      " [10 12 16]]\n"
     ]
    }
   ],
   "source": [
    "B = np.array([[2,1,3],[0,2,1],[2,4,2]])\n",
    "C = A@B\n",
    "print(C)"
   ]
  },
  {
   "cell_type": "markdown",
   "id": "6dcf2f4d",
   "metadata": {},
   "source": [
    "Question 4"
   ]
  },
  {
   "cell_type": "code",
   "execution_count": 4,
   "id": "b2bbcfd6",
   "metadata": {},
   "outputs": [
    {
     "name": "stdout",
     "output_type": "stream",
     "text": [
      "-2.9999999999999996\n"
     ]
    }
   ],
   "source": [
    "det_a = np.linalg.det(A)\n",
    "print(det_a)"
   ]
  },
  {
   "cell_type": "markdown",
   "id": "f03b42ec",
   "metadata": {},
   "source": [
    "Question 5"
   ]
  },
  {
   "cell_type": "code",
   "execution_count": 5,
   "id": "39917216",
   "metadata": {},
   "outputs": [
    {
     "name": "stdout",
     "output_type": "stream",
     "text": [
      "[[-2.   1. ]\n",
      " [ 1.5 -0.5]]\n"
     ]
    }
   ],
   "source": [
    "D = np.array([[1,2],[3,4]])\n",
    "invD = np.linalg.inv(D)\n",
    "print(invD)"
   ]
  },
  {
   "cell_type": "markdown",
   "id": "0bd849b5",
   "metadata": {},
   "source": [
    "Question 6"
   ]
  },
  {
   "cell_type": "code",
   "execution_count": 6,
   "id": "4ee56865",
   "metadata": {},
   "outputs": [
    {
     "name": "stdout",
     "output_type": "stream",
     "text": [
      "70\n"
     ]
    }
   ],
   "source": [
    "u_1 = np.array([1,2,3,4])\n",
    "u_2 = np.array([5,6,7,8])\n",
    "u_3 = np.dot(u_1,u_2)\n",
    "print(u_3)"
   ]
  },
  {
   "cell_type": "markdown",
   "id": "55fb58fc",
   "metadata": {},
   "source": [
    "Intersecting Surfaces -- Lecture 3"
   ]
  },
  {
   "cell_type": "code",
   "execution_count": 11,
   "id": "7ac69e42",
   "metadata": {},
   "outputs": [],
   "source": [
    "#get python code"
   ]
  },
  {
   "cell_type": "markdown",
   "id": "37d9a665",
   "metadata": {},
   "source": [
    "# **Module 3 Python Exercise**"
   ]
  },
  {
   "cell_type": "markdown",
   "id": "6117326a",
   "metadata": {},
   "source": [
    "Question 1"
   ]
  },
  {
   "cell_type": "code",
   "execution_count": 12,
   "id": "13f7406c",
   "metadata": {},
   "outputs": [
    {
     "name": "stdout",
     "output_type": "stream",
     "text": [
      "[20 -4 -3]\n"
     ]
    }
   ],
   "source": [
    "import numpy as np\n",
    "#initialize arrays\n",
    "a = np.array([2, 7, 4])\n",
    "b = np.array([3, 9, 8])\n",
    "#compute cross product\n",
    "output = np.cross(a, b)\n",
    "print(output)"
   ]
  },
  {
   "cell_type": "markdown",
   "id": "133494f1",
   "metadata": {},
   "source": [
    "Question 2"
   ]
  },
  {
   "cell_type": "code",
   "execution_count": 13,
   "id": "8d9ea026",
   "metadata": {},
   "outputs": [
    {
     "name": "stdout",
     "output_type": "stream",
     "text": [
      "Matrix : Matrix([[1, 2, -1], [1, -1, 1], [3, 0, 1]]) \n",
      "Columnspace of a matrix : [Matrix([\n",
      "[1],\n",
      "[1],\n",
      "[3]]), Matrix([\n",
      "[ 2],\n",
      "[-1],\n",
      "[ 0]])]\n",
      "Nullspace of a matrix : [Matrix([\n",
      "[-1/3],\n",
      "[ 2/3],\n",
      "[   1]])]\n"
     ]
    }
   ],
   "source": [
    "# import sympy\n",
    "from sympy import *\n",
    "M = Matrix([[1,2,-1], [1,-1,1], [3,0,1]])\n",
    "print(\"Matrix : {} \".format(M))\n",
    "# Use sympy.columnspace() method\n",
    "M_columnspace = M.columnspace()\n",
    "print(\"Columnspace of a matrix : {}\".format(M_columnspace))\n",
    "M_nullspace = M.nullspace()\n",
    "print(\"Nullspace of a matrix : {}\".format(\n",
    "M_nullspace))"
   ]
  },
  {
   "cell_type": "markdown",
   "id": "89c637ac",
   "metadata": {},
   "source": [
    "Question 3"
   ]
  },
  {
   "cell_type": "code",
   "execution_count": 14,
   "id": "1829ffee",
   "metadata": {},
   "outputs": [
    {
     "name": "stdout",
     "output_type": "stream",
     "text": [
      "[-1.  2.  1.]\n"
     ]
    }
   ],
   "source": [
    "import numpy as np\n",
    "A = np.array([[1, 1, 2],\n",
    "[-2, 3, -2],\n",
    "[4, -1, 1]])\n",
    "y = np.array([3, 6, -5])\n",
    "x = np.linalg.solve(A, y)\n",
    "print(x)"
   ]
  },
  {
   "cell_type": "markdown",
   "id": "592c77d7",
   "metadata": {},
   "source": [
    "Question 4"
   ]
  },
  {
   "cell_type": "code",
   "execution_count": 15,
   "id": "a3c74af4",
   "metadata": {},
   "outputs": [
    {
     "name": "stdout",
     "output_type": "stream",
     "text": [
      "[-1.  2.  1.]\n"
     ]
    }
   ],
   "source": [
    "A_inv = np.linalg.inv(A)\n",
    "x = np.dot(A_inv, y)\n",
    "print(x)"
   ]
  },
  {
   "cell_type": "markdown",
   "id": "c9d121de",
   "metadata": {},
   "source": [
    "Question 5"
   ]
  },
  {
   "cell_type": "code",
   "execution_count": 18,
   "id": "f8bb6dc1",
   "metadata": {},
   "outputs": [
    {
     "ename": "IndentationError",
     "evalue": "expected an indented block (2473214760.py, line 10)",
     "output_type": "error",
     "traceback": [
      "\u001b[0;36m  File \u001b[0;32m\"/var/folders/t0/vv75knk555sbfc42cx0y7wg80000gn/T/ipykernel_35396/2473214760.py\"\u001b[0;36m, line \u001b[0;32m10\u001b[0m\n\u001b[0;31m    \"\"\"\u001b[0m\n\u001b[0m    ^\u001b[0m\n\u001b[0;31mIndentationError\u001b[0m\u001b[0;31m:\u001b[0m expected an indented block\n"
     ]
    }
   ],
   "source": [
    "import numpy as np\n",
    "import plotly.graph_objects as go\n",
    "import plotly.subplots as sp\n",
    "from typing import Tuple, Iterable\n",
    "def plotSurface(fig: go.Figure,\n",
    "normal: Tuple[int, int, int],\n",
    "d: int,\n",
    "values: Iterable,\n",
    "colorScaleName: str) -> None:\n",
    "\"\"\"\n",
    ":param fig: figure to plot on\n",
    ":param colorScaleName: choose from <https://plotly.com/javascript colorscales/> \n",
    "\n",
    "\"\"\"\n",
    "# x, y, z\n",
    "x, y = np.meshgrid(values, values)\n",
    "z = (-normal[0] * x - normal[1] * y - d) * 1. / normal[2]\n",
    "# draw plane\n",
    "surface = go.Surface(x=x, y=y, z=z,colorscale=colorScaleName,showscale=False)\n",
    "fig.add_trace(surface, row=1, col=1)"
   ]
  },
  {
   "cell_type": "code",
   "execution_count": 27,
   "id": "9de404b9",
   "metadata": {},
   "outputs": [
    {
     "ename": "NameError",
     "evalue": "name 'sp' is not defined",
     "output_type": "error",
     "traceback": [
      "\u001b[0;31m---------------------------------------------------------------------------\u001b[0m",
      "\u001b[0;31mNameError\u001b[0m                                 Traceback (most recent call last)",
      "\u001b[0;32m/var/folders/t0/vv75knk555sbfc42cx0y7wg80000gn/T/ipykernel_14678/1783072259.py\u001b[0m in \u001b[0;36m<module>\u001b[0;34m\u001b[0m\n\u001b[1;32m      1\u001b[0m \u001b[0;31m# create figure\u001b[0m\u001b[0;34m\u001b[0m\u001b[0;34m\u001b[0m\u001b[0m\n\u001b[0;32m----> 2\u001b[0;31m \u001b[0mfig\u001b[0m \u001b[0;34m=\u001b[0m \u001b[0msp\u001b[0m\u001b[0;34m.\u001b[0m\u001b[0mmake_subplots\u001b[0m\u001b[0;34m(\u001b[0m\u001b[0mrows\u001b[0m\u001b[0;34m=\u001b[0m\u001b[0;36m1\u001b[0m\u001b[0;34m,\u001b[0m \u001b[0mcols\u001b[0m\u001b[0;34m=\u001b[0m\u001b[0;36m1\u001b[0m\u001b[0;34m,\u001b[0m \u001b[0mspecs\u001b[0m\u001b[0;34m=\u001b[0m\u001b[0;34m[\u001b[0m\u001b[0;34m[\u001b[0m\u001b[0;34m{\u001b[0m\u001b[0;34m'type'\u001b[0m\u001b[0;34m:\u001b[0m \u001b[0;34m'surface'\u001b[0m\u001b[0;34m}\u001b[0m\u001b[0;34m]\u001b[0m\u001b[0;34m]\u001b[0m\u001b[0;34m)\u001b[0m\u001b[0;34m\u001b[0m\u001b[0;34m\u001b[0m\u001b[0m\n\u001b[0m\u001b[1;32m      3\u001b[0m \u001b[0;31m# plot two intersectioned surfaces\u001b[0m\u001b[0;34m\u001b[0m\u001b[0;34m\u001b[0m\u001b[0m\n\u001b[1;32m      4\u001b[0m \u001b[0mvalues\u001b[0m \u001b[0;34m=\u001b[0m \u001b[0mrange\u001b[0m\u001b[0;34m(\u001b[0m\u001b[0;34m-\u001b[0m\u001b[0;36m10\u001b[0m\u001b[0;34m,\u001b[0m \u001b[0;36m10\u001b[0m\u001b[0;34m)\u001b[0m\u001b[0;34m\u001b[0m\u001b[0;34m\u001b[0m\u001b[0m\n\u001b[1;32m      5\u001b[0m \u001b[0mplotSurface\u001b[0m\u001b[0;34m(\u001b[0m\u001b[0mfig\u001b[0m\u001b[0;34m,\u001b[0m \u001b[0;34m(\u001b[0m\u001b[0;36m1\u001b[0m\u001b[0;34m,\u001b[0m \u001b[0;36m1\u001b[0m\u001b[0;34m,\u001b[0m \u001b[0;36m2\u001b[0m\u001b[0;34m)\u001b[0m\u001b[0;34m,\u001b[0m \u001b[0;34m-\u001b[0m\u001b[0;36m3\u001b[0m\u001b[0;34m,\u001b[0m \u001b[0mvalues\u001b[0m\u001b[0;34m,\u001b[0m \u001b[0;34m\"Reds\"\u001b[0m\u001b[0;34m)\u001b[0m\u001b[0;34m\u001b[0m\u001b[0;34m\u001b[0m\u001b[0m\n",
      "\u001b[0;31mNameError\u001b[0m: name 'sp' is not defined"
     ]
    }
   ],
   "source": [
    "# create figure\n",
    "fig = sp.make_subplots(rows=1, cols=1, specs=[[{'type': 'surface'}]])\n",
    "# plot two intersectioned surfaces\n",
    "values = range(-10, 10)\n",
    "plotSurface(fig, (1, 1, 2), -3, values, \"Reds\")\n",
    "plotSurface(fig, (-2, 3, -2), -6, values, \"Greens\")\n",
    "plotSurface(fig, (4, -1, 1), 5, values, \"Blues\")\n",
    "fig.show()"
   ]
  },
  {
   "cell_type": "markdown",
   "id": "d2de0131",
   "metadata": {},
   "source": [
    "# **Module 4 Fundamentals of Statistics**"
   ]
  },
  {
   "cell_type": "markdown",
   "id": "d92a91fe",
   "metadata": {},
   "source": [
    "Task 1"
   ]
  },
  {
   "cell_type": "code",
   "execution_count": 2,
   "id": "4bc26819",
   "metadata": {},
   "outputs": [],
   "source": [
    "# This task is to practice basic probaility\n",
    "# this function is to check if a number is multiple of 3\n",
    "def is_multiple_three(number):\n",
    "    if number % 3 !=0:\n",
    "        return False\n",
    "    return True"
   ]
  },
  {
   "cell_type": "code",
   "execution_count": 5,
   "id": "ac4814dd",
   "metadata": {},
   "outputs": [],
   "source": [
    "# this function is to calculate the probability of a uniform distribution\n",
    "def probability(space, event):\n",
    "# define the probability for a uniform distribution'\n",
    "# P(E) = n(E)/n(S), n(E) and n(S) are the cardinality of the sets E, the event, and S, the sample space'\n",
    "    prob = len(event)/len(space)\n",
    "    return prob"
   ]
  },
  {
   "cell_type": "code",
   "execution_count": 7,
   "id": "ddee78a6",
   "metadata": {},
   "outputs": [
    {
     "name": "stdout",
     "output_type": "stream",
     "text": [
      "Sample space: range(1, 100)\n",
      "Multiples of three: [3, 6, 9, 12, 15, 18, 21, 24, 27, 30, 33, 36, 39, 42, 45, 48, 51, 54, 57, 60, 63, 66, 69, 72, 75, 78, 81, 84, 87, 90, 93, 96, 99]\n",
      "Probability of multiples of three: 0.33333\n"
     ]
    }
   ],
   "source": [
    "# Sample space\n",
    "space = range(1,100)\n",
    "# Create an empty list of the multiples of 3\n",
    "multiples_three = []\n",
    "# Create a loop to check if the numbers in the sample space is a multiples of 3\n",
    "# If yes, append the number to the list of multiples of 3\n",
    "for j in space:\n",
    "    if is_multiple_three(j):\n",
    "        multiples_three.append(j)\n",
    "prob = probability(space, multiples_three)\n",
    "\n",
    "print('Sample space: {0}'.format(space))\n",
    "print('Multiples of three: {0}'.format(multiples_three))\n",
    "print('Probability of multiples of three: {0:.5f}'.format(prob))"
   ]
  },
  {
   "cell_type": "markdown",
   "id": "b631282a",
   "metadata": {},
   "source": [
    "Task 2"
   ]
  },
  {
   "cell_type": "code",
   "execution_count": 8,
   "id": "b554f16f",
   "metadata": {},
   "outputs": [],
   "source": [
    "# This task is to practice probability operations\n",
    "S = {1, 2, 3, 4, 5, 6}\n",
    "a = {2, 3, 5}\n",
    "b = {2, 4, 6}"
   ]
  },
  {
   "cell_type": "code",
   "execution_count": 9,
   "id": "39abf7cf",
   "metadata": {},
   "outputs": [
    {
     "data": {
      "text/plain": [
       "0.8333333333333334"
      ]
     },
     "execution_count": 9,
     "metadata": {},
     "output_type": "execute_result"
    }
   ],
   "source": [
    "# Use the union() method to find the union of a and b\n",
    "a_or_b = a.union(b)\n",
    "# Calculate the probability of union of the two sets.\n",
    "# The probability is defined by (the number of events)/(the number of samples in the sample space).\n",
    "len(a_or_b)/len(S)"
   ]
  },
  {
   "cell_type": "code",
   "execution_count": 10,
   "id": "6346a74e",
   "metadata": {},
   "outputs": [
    {
     "name": "stdout",
     "output_type": "stream",
     "text": [
      "{2}\n"
     ]
    },
    {
     "data": {
      "text/plain": [
       "0.16666666666666666"
      ]
     },
     "execution_count": 10,
     "metadata": {},
     "output_type": "execute_result"
    }
   ],
   "source": [
    "# Use the intersect() method to find the union of a and b\n",
    "a_and_b = a.intersection(b)\n",
    "print(a_and_b)\n",
    "# Calculate the probability of intersect of the two sets.\n",
    "len(a_and_b)/len(S)"
   ]
  },
  {
   "cell_type": "code",
   "execution_count": 11,
   "id": "89a4d060",
   "metadata": {},
   "outputs": [
    {
     "name": "stdout",
     "output_type": "stream",
     "text": [
      "{1, 4, 6}\n"
     ]
    },
    {
     "data": {
      "text/plain": [
       "0.5"
      ]
     },
     "execution_count": 11,
     "metadata": {},
     "output_type": "execute_result"
    }
   ],
   "source": [
    "# Use the difference() method to find the complement of a in S\n",
    "not_a = S.difference(a)\n",
    "print(not_a)\n",
    "# Calculate the probability of intersect of the two sets.\n",
    "len(not_a)/len(S)"
   ]
  },
  {
   "cell_type": "markdown",
   "id": "1bf226aa",
   "metadata": {},
   "source": [
    "Task 3"
   ]
  },
  {
   "cell_type": "code",
   "execution_count": 12,
   "id": "c8e6dc50",
   "metadata": {},
   "outputs": [
    {
     "name": "stdout",
     "output_type": "stream",
     "text": [
      "0.5333333333333333\n",
      "0.7999999999999999\n",
      "0.16999999999999998\n"
     ]
    }
   ],
   "source": [
    "# This task is to practice conditional probability\n",
    "# In a class of 100 students, 10 of them failed Chemistry, 15 of them failed Physics,\n",
    "# and 8 of the students failed both Chemistry and Physics.\n",
    "# A student is selected at random\n",
    "# Let A = {students failed Chemistry}\n",
    "# B = {students failed Physics}\n",
    "# C = {students failed both Chemistry and Physics}\n",
    "\n",
    "prob_A=10/100\n",
    "prob_B=15/100\n",
    "prob_A_and_B=8/100\n",
    "\n",
    "# Compute the probability that the student failed Chemistry if the student failed Physics, i.e., P(A|B)\n",
    "# P(A|B)=P(A and B)/P(B)\n",
    "prob_A_given_B = prob_A_and_B / prob_B\n",
    "print(prob_A_given_B)\n",
    "\n",
    "# Compute the probability that the student failed the Physics if the student failed Chemistry, i.e., P(B|A)\n",
    "# P(B|A)=P(A and B)/P(A)\n",
    "prob_B_given_A = prob_A_and_B / prob_A\n",
    "print(prob_B_given_A)\n",
    "\n",
    "# Compute the probability that the student failed mathematics or physics, i.e., P(A￿￿)\n",
    "# P(A or B)=P(A) + P(B) - P(A and B)\n",
    "prob_A_or_B = prob_A + prob_B - prob_A_and_B\n",
    "print(prob_A_or_B)"
   ]
  },
  {
   "cell_type": "markdown",
   "id": "aacc234b",
   "metadata": {},
   "source": [
    "Task 4"
   ]
  },
  {
   "cell_type": "code",
   "execution_count": 13,
   "id": "497e8203",
   "metadata": {},
   "outputs": [
    {
     "data": {
      "image/png": "[encoded data removed]",
      "text/plain": [
       "<Figure size 432x288 with 1 Axes>"
      ]
     },
     "metadata": {
      "needs_background": "light"
     },
     "output_type": "display_data"
    }
   ],
   "source": [
    "# This task is to generate uniform random numbers\n",
    "# visualise the probability results using histogram\n",
    "# and test the law of large numbers\n",
    "# import the random module first\n",
    "import random\n",
    "\n",
    "# Create an empty list of random numbers\n",
    "randomList = []\n",
    "\n",
    "# The randint() function which takes two integers as arguments and\n",
    "# returns a random integer that falls between these two numbers (both inclusive).\n",
    "# Generate 10 random integers btw 1 to 20, and add them to the random number list\n",
    "for i in range(10):\n",
    "    randomList.append(random.randint(1,20))\n",
    "#print(randomList)\n",
    "\n",
    "import matplotlib.pyplot as plt\n",
    "import numpy as np\n",
    "\n",
    "plt.hist(randomList, density=True, rwidth=0.5,bins=20) # density=False would make counts\n",
    "plt.ylabel('Probability')\n",
    "plt.xlabel('Generated numbers');\n",
    "# Repeat the above step but generate 100, 1000, 10000, or large number\n",
    "# observe the histogram visualization, and test the law of large numbers."
   ]
  },
  {
   "cell_type": "markdown",
   "id": "f7fdb2ae",
   "metadata": {},
   "source": [
    "Task 5"
   ]
  },
  {
   "cell_type": "code",
   "execution_count": 19,
   "id": "f1030cd6",
   "metadata": {},
   "outputs": [
    {
     "name": "stdout",
     "output_type": "stream",
     "text": [
      "P(X=40) =  0.1398190051743154\n",
      "P(X<=40) =  0.5562595867082492\n",
      "P(40<= X <=45) =  0.5650634034058573\n",
      "X =  40.0\n"
     ]
    }
   ],
   "source": [
    "# This task is to practice Binomial distribution\n",
    "\n",
    "# Import the SciPy library\n",
    "from scipy.stats import binom\n",
    "\n",
    "# For the binomial functions provided in the SciPy package,\n",
    "# see https://docs.scipy.org/doc/scipy/reference/generated/scipy.stats.binom.html\n",
    "\n",
    "# To see the online document, run the code below.\n",
    "# binom?\n",
    "# Context: A Binomial distribution with probability of success p=0.8 and number of trials n=50.\n",
    "\n",
    "# Compute the probability of exactly 40 successes\n",
    "print(\"P(X=40) = \", binom.pmf(k=40, n=50, p=0.8)) # use the Probability Density Function f(X=k)\n",
    "\n",
    "# Compute the probability of 40 or less successes\n",
    "print(\"P(X<=40) = \", binom.cdf(k=40, n=50, p=0.8)) # use the Cumlative Distribution Function F(X<=k)\n",
    "\n",
    "# Compute the probability that the number of successes is between 40 to 45 (both inclusive)\n",
    "print(\"P(40<= X <=45) = \", binom.cdf(k=45, n=50, p=0.8) - binom.cdf(k=39, n=50, p=0.8))\n",
    "\n",
    "# Compute the minimum number of successes needed to achieve a cumulative probability of .5\n",
    "# ppf() is the inverse of cdf(). It takes the probability value and\n",
    "# gives a number whose cumulative value matches the probability value\n",
    "print(\"X = \", binom.ppf(q=0.5, n=50, p=0.8))"
   ]
  },
  {
   "cell_type": "code",
   "execution_count": 21,
   "id": "b7b72273",
   "metadata": {},
   "outputs": [
    {
     "data": {
      "image/png": "[encoded data removed]",
      "text/plain": [
       "<Figure size 432x288 with 1 Axes>"
      ]
     },
     "metadata": {
      "needs_background": "light"
     },
     "output_type": "display_data"
    },
    {
     "data": {
      "image/png": "[encoded data removed]",
      "text/plain": [
       "<Figure size 432x288 with 2 Axes>"
      ]
     },
     "metadata": {
      "needs_background": "light"
     },
     "output_type": "display_data"
    }
   ],
   "source": [
    "# Generate a sequence of 1000 random numbers from the Binomial distribution of the given parameters,\n",
    "# and plot the bar chart for the probability distribution\n",
    "\n",
    "import numpy as np\n",
    "from numpy import random\n",
    "import matplotlib.pyplot as plt\n",
    "\n",
    "# Generate 1000 random numbers that follow the binomial distribution of given n, p\n",
    "n=50\n",
    "p=0.8\n",
    "size=1000\n",
    "binom_sample = binom.rvs(n=n, p=0.8, size=size)\n",
    "\n",
    "x_values = list(range(n + 1))\n",
    "# list of pmf values\n",
    "prob = [binom.pmf(x, n, p) for x in x_values]\n",
    "# plotting the graph\n",
    "plt.bar(x_values, prob)\n",
    "plt.xlabel(\"Number of successes\")\n",
    "plt.ylabel(\"Probability\")\n",
    "plt.show()\n",
    "\n",
    "# Below are the plots of PDF and CDF of binomial distribution\n",
    "# You may compare your plot with them.\n",
    "x = np.arange(binom.ppf(0.00, n, p),binom.ppf(1, n, p))\n",
    "fig, ax = plt.subplots(2, 1)\n",
    "\n",
    "# Plot the probability density distrubtion fucntion for the binomial distribution\n",
    "ax[0].vlines(x, 0, binom.pmf(x, n, p), linestyles='-', colors='b', lw=1, label='PDF')\n",
    "ax[0].legend(loc='upper left')\n",
    "\n",
    "# Plot the cumulative probability distrubtion fucntion for the binomial distribution\n",
    "ax[1].vlines(x, 0, binom.cdf(x, n, p), linestyles='-', colors='b', lw=1, label='CDF')\n",
    "ax[1].legend(loc='upper left')\n",
    "\n",
    "plt.show()"
   ]
  },
  {
   "cell_type": "code",
   "execution_count": 23,
   "id": "d0c3649a",
   "metadata": {},
   "outputs": [
    {
     "name": "stdout",
     "output_type": "stream",
     "text": [
      "P(X=3) =  0.08923507835998894\n",
      "P(X<3) =  0.15120388277664784\n",
      "P(X>3) =  0.8487961172233521\n",
      "P(X=3 or X=4) =  0.22308769589997224\n",
      "K=  8.0\n"
     ]
    }
   ],
   "source": [
    "# This task is to practice Poisson distribution\n",
    "\n",
    "# Import SciPy library\n",
    "from scipy.stats import poisson\n",
    "import matplotlib.pyplot as plt\n",
    "import numpy as np\n",
    "\n",
    "# For the Poisson functions provided in the SciPy package,\n",
    "# see https://docs.scipy.org/doc/scipy/reference/generated/scipy.stats.poisson.html\n",
    "# Run the command below to see the online document\n",
    "# poisson?\n",
    "\n",
    "mean = 6\n",
    "\n",
    "# Calculate the probability when the number of events=3\n",
    "print(\"P(X=3) = \", poisson.pmf(k=3, mu=mean))\n",
    "\n",
    "# Calculate probability when the number of events <3\n",
    "print(\"P(X<3) = \", poisson.cdf(k=3, mu=mean))\n",
    "\n",
    "# Calculate probability when the number of events >3\n",
    "print(\"P(X>3) = \", poisson.sf(k=3, mu=mean))\n",
    "\n",
    "# Calculate probability when the number of events =3 or 4\n",
    "print(\"P(X=3 or X=4) = \", poisson.cdf(k=4, mu=mean) - poisson.cdf(k=2, mu=mean))\n",
    "\n",
    "# Number of events with cumulative probability = .75\n",
    "print(\"K= \", poisson.ppf(q=0.75, mu=mean))"
   ]
  },
  {
   "cell_type": "code",
   "execution_count": 24,
   "id": "10337610",
   "metadata": {},
   "outputs": [
    {
     "data": {
      "image/png": "[encoded data removed]",
      "text/plain": [
       "<Figure size 432x288 with 1 Axes>"
      ]
     },
     "metadata": {
      "needs_background": "light"
     },
     "output_type": "display_data"
    },
    {
     "data": {
      "image/png": "[encoded data removed]",
      "text/plain": [
       "<Figure size 432x288 with 2 Axes>"
      ]
     },
     "metadata": {
      "needs_background": "light"
     },
     "output_type": "display_data"
    }
   ],
   "source": [
    "# Generate a sequence of 1000 random numbers from the Poisson distribution ofvthe given parameter,\n",
    "# and plot the bar chart for the probability distribution.\n",
    "mean = 6\n",
    "poisson_sample = poisson.rvs(mu=mean, size=10000)\n",
    "\n",
    "x_values = list(range(int(poisson.ppf(0.99, mu=mean))+1))\n",
    "# list of pmf values\n",
    "prob = [poisson.pmf(x, mu=mean) for x in x_values]\n",
    "# plotting the graph\n",
    "plt.bar(x_values, prob)\n",
    "plt.xlabel(\"Number of events\")\n",
    "plt.ylabel(\"Probability\")\n",
    "plt.show()\n",
    "\n",
    "# Below are the plots of PDF and CDF of poisson distribution\n",
    "# You may compare your plot with them.\n",
    "x = np.arange(poisson.ppf(0.00, mu=mean),poisson.ppf(0.99, mu=mean))\n",
    "fig, ax = plt.subplots(2, 1)\n",
    "\n",
    "# Plot the probability density distrubtion fucntion for the poisson distribution\n",
    "ax[0].vlines(x, 0, poisson.pmf(x, mu=mean), linestyles='-', colors='b', lw=1, label='PDF')\n",
    "ax[0].legend(loc='upper left')\n",
    "\n",
    "# Plot the cumulative probability distrubtion fucntion for the poisson distribution\n",
    "ax[1].vlines(x, 0, poisson.cdf(x, mu=mean), linestyles='-', colors='b', lw=1, label='CDF')\n",
    "ax[1].legend(loc='upper left')\n",
    "plt.show()"
   ]
  },
  {
   "cell_type": "markdown",
   "id": "5496df8a",
   "metadata": {},
   "source": [
    "Task 6"
   ]
  },
  {
   "cell_type": "code",
   "execution_count": 25,
   "id": "2e71917b",
   "metadata": {},
   "outputs": [
    {
     "name": "stdout",
     "output_type": "stream",
     "text": [
      "f(X=6) =  0.1329807601338109\n",
      "P(X<=4) =  0.2524925375469229\n",
      "P(4<=X<=9) =  0.58885220852162\n",
      "P(X>9) =  0.15865525393145707\n",
      "When the cumulative probility is 0.3, then X =  4.426798461875878\n"
     ]
    }
   ],
   "source": [
    "# This task is to practice normal distribution\n",
    "\n",
    "# Import SciPy library\n",
    "from scipy.stats import norm\n",
    "import matplotlib.pyplot as plt\n",
    "import numpy as np\n",
    "\n",
    "# For the normal distribution functions provided in the SciPy package,\n",
    "# see https://docs.scipy.org/doc/scipy/reference/reference/generated/scipy.stats.norm.html\n",
    "# norm?\n",
    "\n",
    "# A normal distribution with mean=6 and standard deviation=3\n",
    "mean=6 # mean\n",
    "sd=3 # standard deviation\n",
    "\n",
    "# Compute the max height of PDF (Probability Density Function) curve\n",
    "# That is to find the corresponding pdf value when X=mean, ie.f(X=6)\n",
    "print(\"f(X=6) = \", norm.pdf(x=6, loc=mean, scale=sd))\n",
    "\n",
    "# Compute probability when X<=4, i.e. P(X￿4)\n",
    "print(\"P(X<=4) = \", norm.cdf(x=4, loc=mean, scale=sd))\n",
    "\n",
    "# Compute the probability when 4￿X￿9, i.e., P(4￿X￿9)\n",
    "print(\"P(4<=X<=9) = \", norm.cdf(x=9, loc=mean, scale=sd) - norm.cdf(x=4, loc=mean, scale=sd))\n",
    "\n",
    "# Compute the probability when X>9, i.e., P(X>9)\n",
    "print(\"P(X>9) = \", 1 - norm.cdf(x=9, loc=mean, scale=sd))\n",
    "\n",
    "# For the minimum 30% of the X values, find the max value that X can reach.\n",
    "print(\"When the cumulative probility is 0.3, then X = \", norm.ppf(q=0.3, loc=mean, scale=sd))"
   ]
  },
  {
   "cell_type": "code",
   "execution_count": 26,
   "id": "534faaa1",
   "metadata": {},
   "outputs": [
    {
     "name": "stdout",
     "output_type": "stream",
     "text": [
      "The probability equals 68% for the interval within 1 standard deviation of the mean\n",
      "The probability equals 95% for the interval within 2 standard deviation of the mean\n",
      "The probability equals 99.7% for the interval within 3 standard deviation of the mean\n"
     ]
    }
   ],
   "source": [
    "# Verify the 68-95-99 rule for normal distribution for this case\n",
    "prob1=norm.cdf(x=mean + sd, loc=mean, scale=sd) - norm.cdf(x=mean - sd, loc=mean, scale=sd)\n",
    "\n",
    "print(\"The probability equals {:2.0%} for the interval within 1 standard deviation of the mean\".format(prob1))\n",
    "prob2=norm.cdf(x=mean + 2*sd, loc=mean, scale=sd) - norm.cdf(x=mean - 2*sd, loc=mean, scale=sd)\n",
    "print(\"The probability equals {:2.0%} for the interval within 2 standard deviation of the mean\".format(prob2))\n",
    "prob3=norm.cdf(x=mean + 3*sd, loc=mean, scale=sd) - norm.cdf(x=mean - 3*sd, loc=mean, scale=sd)\n",
    "print(\"The probability equals {:2.1%} for the interval within 3 standard deviation of the mean\".format(prob3))"
   ]
  },
  {
   "cell_type": "code",
   "execution_count": 27,
   "id": "10dc2a8d",
   "metadata": {},
   "outputs": [
    {
     "data": {
      "image/png": "[encoded data removed]",
      "text/plain": [
       "<Figure size 432x288 with 1 Axes>"
      ]
     },
     "metadata": {
      "needs_background": "light"
     },
     "output_type": "display_data"
    }
   ],
   "source": [
    "# Generate a sequence of 1000 random numbers from the normal distribution of the given parameters,\n",
    "# and plot the histogram chart for the probability distribution.\n",
    "norm_sample = norm.rvs(loc=mean, scale=sd, size=10000)\n",
    "\n",
    "# plot the histogram graph\n",
    "plt.hist(norm_sample, density=True, bins=20)\n",
    "plt.xlabel(\"X\")\n",
    "plt.ylabel(\"Probability\")\n",
    "plt.show()"
   ]
  },
  {
   "cell_type": "code",
   "execution_count": 28,
   "id": "5349a85b",
   "metadata": {},
   "outputs": [
    {
     "data": {
      "image/png": "[encoded data removed]",
      "text/plain": [
       "<Figure size 432x288 with 2 Axes>"
      ]
     },
     "metadata": {
      "needs_background": "light"
     },
     "output_type": "display_data"
    },
    {
     "data": {
      "text/plain": [
       "<matplotlib.legend.Legend at 0x7fc88dc72460>"
      ]
     },
     "execution_count": 28,
     "metadata": {},
     "output_type": "execute_result"
    }
   ],
   "source": [
    "# Below are the plots of PDF and CDF of normal distribution\n",
    "# You may compare your plot with them.\n",
    "x = np.linspace(norm.ppf(q=0.001, loc=mean, scale=sd),norm.ppf(q=0.999, loc=mean, scale=sd))\n",
    "fig, ax = plt.subplots(2, 1)\n",
    "\n",
    "ax[0].vlines(x, 0, norm.pdf(x, loc=mean, scale=sd), linestyles='-', colors='b', lw=1, label='PDF')\n",
    "ax[0].legend(loc='upper left')\n",
    "\n",
    "# Plot the cumulative probability distrubtion fucntion for the normal distribution\n",
    "ax[1].vlines(x, 0, norm.cdf(x, loc=mean, scale=sd), linestyles='-', colors='b', lw=1, label='CDF')\n",
    "ax[1].legend(loc='upper left')\n",
    "plt.show()\n",
    "\n",
    "# Alternative way to display PDF and CDF\n",
    "# Plot the probability density distrubtion fucntion for the normal distribution\n",
    "#ax[0].plot(x, norm.pdf(x, loc=mean, scale=sd), lw=1, label='PDF')\n",
    "#ax[0].legend(loc='upper left')\n",
    "#ax[1].plot(x, norm.cdf(x, loc=mean, scale=sd), lw=1, label='PDF')\n",
    "ax[1].legend(loc='upper left')\n",
    "#plt.show()"
   ]
  },
  {
   "cell_type": "markdown",
   "id": "6d272acd",
   "metadata": {},
   "source": [
    "Task 7"
   ]
  },
  {
   "cell_type": "code",
   "execution_count": 29,
   "id": "078f19a9",
   "metadata": {},
   "outputs": [],
   "source": [
    "# This task is to practice t distribution\n",
    "# Import SciPy library\n",
    "\n",
    "from scipy.stats import t\n",
    "import matplotlib.pyplot as plt\n",
    "import numpy as np \n",
    "\n",
    "# For the normal distribution functions provided in the SciPy package,\n",
    "# see https://docs.scipy.org/doc/scipy/reference/generated/scipy.stats.t.html\n",
    "# t?"
   ]
  },
  {
   "cell_type": "code",
   "execution_count": 30,
   "id": "afdcc673",
   "metadata": {},
   "outputs": [
    {
     "name": "stdout",
     "output_type": "stream",
     "text": [
      "P(X=0) =  0.3866990209613933\n",
      "P(X<=-0.785) =  0.22753486080367036\n"
     ]
    }
   ],
   "source": [
    "# A random variable X has a t distribution with degree of freedom=8.\n",
    "df=8 # degree of freedom\n",
    "\n",
    "# Find the value of the t distribution PDF at x = 0\n",
    "print(\"P(X=0) = \", t.pdf(x=0, df=df))\n",
    "\n",
    "# Find the area of probability to the left of a t-score with value of -0.785\n",
    "print(\"P(X<=-0.785) = \", t.cdf(x=-0.785, df=df))"
   ]
  },
  {
   "cell_type": "code",
   "execution_count": 31,
   "id": "909e4c14",
   "metadata": {},
   "outputs": [
    {
     "data": {
      "image/png": "[encoded data removed]",
      "text/plain": [
       "<Figure size 432x288 with 1 Axes>"
      ]
     },
     "metadata": {
      "needs_background": "light"
     },
     "output_type": "display_data"
    }
   ],
   "source": [
    "# Generate a sequence of 1000 random numbers from the t distribution of the given parameter\n",
    "# and plot the histogram chart for the probability distribution.\n",
    "t_sample = t.rvs(df=df, size=10000)\n",
    "\n",
    "# plot the histogram graph\n",
    "plt.hist(t_sample, density=True, bins=20)\n",
    "plt.xlabel(\"X\")\n",
    "plt.ylabel(\"Probability\")\n",
    "plt.show()"
   ]
  },
  {
   "cell_type": "code",
   "execution_count": 32,
   "id": "2b5ed76b",
   "metadata": {},
   "outputs": [
    {
     "data": {
      "image/png": "[encoded data removed]",
      "text/plain": [
       "<Figure size 432x288 with 2 Axes>"
      ]
     },
     "metadata": {
      "needs_background": "light"
     },
     "output_type": "display_data"
    }
   ],
   "source": [
    "# Below are the plots of PDF and CDF of t distribution\n",
    "# You may compare your plot with them.\n",
    "\n",
    "x = np.linspace(t.ppf(q=0.001, df=df),t.ppf(q=0.999, df=df))\n",
    "fig, ax = plt.subplots(2, 1)\n",
    "\n",
    "ax[0].vlines(x, 0, t.pdf(x, df=df), linestyles='-', colors='b', lw=1, label='PDF')\n",
    "ax[0].legend(loc='upper left')\n",
    "\n",
    "# Plot the cumulative probability distrubtion fucntion for the t distribution\n",
    "ax[1].vlines(x, 0, t.cdf(x, df=df), linestyles='-', colors='b', lw=1, label='CDF')\n",
    "ax[1].legend(loc='upper left')\n",
    "\n",
    "plt.show()\n",
    "\n",
    "# Alternative way to display PDF and CDF\n",
    "# Plot the probability density distrubtion fucntion for the t distribution\n",
    "#ax[0].plot(x, t.pdf(x, df=df), lw=1, label='PDF')\n",
    "#ax[0].legend(loc='upper left')\n",
    "\n",
    "#ax[1].plot(x, t.cdf(x, df=df), lw=1, label='PDF')\n",
    "#ax[1].legend(loc='upper left')\n",
    "#plt.show()"
   ]
  },
  {
   "cell_type": "markdown",
   "id": "3f885a52",
   "metadata": {},
   "source": [
    "Task 8"
   ]
  },
  {
   "cell_type": "code",
   "execution_count": 33,
   "id": "e7353cd1",
   "metadata": {},
   "outputs": [],
   "source": [
    "# This task is to practice chi-squared distribution\n",
    "\n",
    "# Import SciPy library\n",
    "from scipy.stats import chi2\n",
    "import matplotlib.pyplot as plt\n",
    "import numpy as np\n",
    "\n",
    "# For the normal distribution functions provided in the SciPy package,\n",
    "# see https://docs.scipy.org/doc/scipy/reference/generated/scipy.stats.chisquare.html\n",
    "# chi2?"
   ]
  },
  {
   "cell_type": "code",
   "execution_count": 35,
   "id": "5626ee05",
   "metadata": {},
   "outputs": [
    {
     "name": "stdout",
     "output_type": "stream",
     "text": [
      "P(X<=6) =  0.08391794203130347\n",
      "P(X>6) =  0.9160820579686966\n",
      "Critical value=11.3 when P(X <= critical value)=0.5\n"
     ]
    }
   ],
   "source": [
    "# A random variable X has a chi-square distribution with degree of freedom=12.\n",
    "df=12\n",
    "# Find the area under the PDF curve for the interval [0,6] and the interval [6,∞) of the ￿2 distribution\n",
    "print(\"P(X<=6) = \", chi2.cdf(x=6, df=df))\n",
    "\n",
    "# Find the area under the PDF courve for the interval [6,∞) of the ￿2 distribution\n",
    "print(\"P(X>6) = \", 1- chi2.cdf(x=6, df=df))\n",
    "\n",
    "# find the critical value if the area of probability to the left of it is 0.5\n",
    "print(\"Critical value={:.3} when P(X <= critical value)=0.5\".format(chi2.ppf(q=0.5, df=df)))"
   ]
  },
  {
   "cell_type": "code",
   "execution_count": 36,
   "id": "98490d5e",
   "metadata": {},
   "outputs": [
    {
     "data": {
      "image/png": "[encoded data removed]",
      "text/plain": [
       "<Figure size 432x288 with 1 Axes>"
      ]
     },
     "metadata": {
      "needs_background": "light"
     },
     "output_type": "display_data"
    }
   ],
   "source": [
    "# Generate a sequence of 1000 random numbers from the chi-squared distribution of the given parameter\n",
    "# and plot the histogram chart for the probability distribution.\n",
    "chi2_sample = chi2.rvs(df=df, size=10000)\n",
    "\n",
    "# plot the histogram graph\n",
    "plt.hist(chi2_sample, density=True, bins=20)\n",
    "plt.xlabel(\"X\")\n",
    "plt.ylabel(\"Probability\")\n",
    "plt.show()"
   ]
  },
  {
   "cell_type": "code",
   "execution_count": 37,
   "id": "a8a63193",
   "metadata": {},
   "outputs": [
    {
     "data": {
      "image/png": "[encoded data removed]",
      "text/plain": [
       "<Figure size 432x288 with 2 Axes>"
      ]
     },
     "metadata": {
      "needs_background": "light"
     },
     "output_type": "display_data"
    }
   ],
   "source": [
    "# Below are the plots of PDF and CDF of chi-squared distribution\n",
    "# You may compare your plot with them.\n",
    "x = np.linspace(chi2.ppf(q=0.001, df=df),chi2.ppf(q=0.999, df=df))\n",
    "fig, ax = plt.subplots(2, 1)\n",
    "\n",
    "ax[0].vlines(x, 0, chi2.pdf(x, df=df), linestyles='-', colors='b', lw=1, label='PDF')\n",
    "ax[0].legend(loc='upper left')\n",
    "\n",
    "# Plot the cumulative probability distrubtion fucntion for the chi-squared distribution\n",
    "ax[1].vlines(x, 0, chi2.cdf(x, df=df), linestyles='-', colors='b', lw=1, label='CDF')\n",
    "ax[1].legend(loc='upper left')\n",
    "plt.show()\n",
    "\n",
    "# Alternative way to display PDF and CDF\n",
    "# Plot the probability density distrubtion fucntion for the t distribution\n",
    "#ax[0].plot(x, chi2.pdf(x, df=df), lw=1, label='PDF')\n",
    "#ax[0].legend(loc='upper left')\n",
    "\n",
    "#ax[1].plot(x, chi2.cdf(x, df=df), lw=1, label='PDF')\n",
    "#ax[1].legend(loc='upper left')\n",
    "#plt.show()"
   ]
  },
  {
   "cell_type": "markdown",
   "id": "3cecaf04",
   "metadata": {},
   "source": [
    "Task 9"
   ]
  },
  {
   "cell_type": "code",
   "execution_count": 40,
   "id": "644b761b",
   "metadata": {},
   "outputs": [
    {
     "name": "stdout",
     "output_type": "stream",
     "text": [
      "0.5\n",
      "0.5\n",
      "0.498\n"
     ]
    },
    {
     "data": {
      "image/png": "[encoded data removed]",
      "text/plain": [
       "<Figure size 432x288 with 1 Axes>"
      ]
     },
     "metadata": {
      "needs_background": "light"
     },
     "output_type": "display_data"
    }
   ],
   "source": [
    "# This task is to simulate the law of large numbers, in the context of\n",
    "# The sample mean approaches the polulation mean as the sample size increases.\n",
    "\n",
    "from scipy.stats import describe\n",
    "from scipy.stats import binom\n",
    "import matplotlib.pyplot as plt\n",
    "\n",
    "# Generate a sample of 500 coin flips\n",
    "n=500 # sample size\n",
    "sample = binom.rvs(n=1, p=0.5, size=n, random_state=12)\n",
    "#print(sample)\n",
    "\n",
    "# Print the sample means of the first 10 samples\n",
    "print(describe(sample[0:10]).mean)\n",
    "\n",
    "# Print the sample means of the first 100 samples\n",
    "print(describe(sample[0:100]).mean)\n",
    "\n",
    "# Print the sample means of the 500 samples\n",
    "print(describe(sample[0:500]).mean)\n",
    "\n",
    "# Claculate sample mean and store it on averages array\n",
    "averages = []\n",
    "\n",
    "for i in range (2, n+1):\n",
    "    averages.append(describe(sample[0:i]).mean)\n",
    "\n",
    "# add population mean line and sample mean plot\n",
    "plt.axhline(binom.mean(n=1, p=0.5), color='red')\n",
    "plt.plot(averages, '-')\n",
    "\n",
    "# Add legend\n",
    "plt.legend((\"Population mean\", \"Sample mean\"), loc='upper right')\n",
    "plt.show()"
   ]
  },
  {
   "cell_type": "markdown",
   "id": "2055d517",
   "metadata": {},
   "source": [
    "Task 10"
   ]
  },
  {
   "cell_type": "code",
   "execution_count": 43,
   "id": "1a8cfb53",
   "metadata": {},
   "outputs": [
    {
     "data": {
      "image/png": "[encoded data removed]",
      "text/plain": [
       "<Figure size 432x288 with 3 Axes>"
      ]
     },
     "metadata": {
      "needs_background": "light"
     },
     "output_type": "display_data"
    }
   ],
   "source": [
    "# This task is to simulate the Central Limit Theorem, in the context of\n",
    "# the sampling distribution of the sample mean\n",
    "import numpy as np\n",
    "from scipy.stats import describe\n",
    "from scipy.stats import binom\n",
    "import matplotlib.pyplot as plt\n",
    "import seaborn as sns\n",
    "\n",
    "# Test the CLT using Binomial distribution as an example\n",
    "# Generate the population size 1000\n",
    "population = binom.rvs(n=100, p=0.5, size=1000)\n",
    "\n",
    "sample_size=[10, 100, 500]\n",
    "np.random.seed(2)\n",
    "\n",
    "# Create list for sample means\n",
    "sample_means = []\n",
    "fig, ax=plt.subplots(3, 1, sharex=True)\n",
    "for i in range(3):\n",
    "    sample_means = []\n",
    "    for _ in range(1000):\n",
    "        # Take sample from the population\n",
    "        sample = np.random.choice(population, sample_size[i])\n",
    "        # Calculate the sample mean\n",
    "        sample_means.append(describe(sample).mean)\n",
    "        \n",
    "    ax[i].hist(sample_means)\n",
    "\n",
    "# adjust the spaces between subplots\n",
    "plt.subplots_adjust(hspace=0.4)\n",
    "plt.show()"
   ]
  },
  {
   "cell_type": "markdown",
   "id": "0aeaa102",
   "metadata": {},
   "source": [
    "Task 11"
   ]
  },
  {
   "cell_type": "code",
   "execution_count": 44,
   "id": "4e1f1a1f",
   "metadata": {},
   "outputs": [
    {
     "name": "stdout",
     "output_type": "stream",
     "text": [
      "Total number of data values: 20\n",
      "Mean:  16.7\n",
      "Data sorted in ascending:  [ 0  5  7 10 13 14 14 15 16 18 18 18 19 20 20 21 21 22 29 34]\n",
      "Median:  18.0\n",
      "Mode:  [18]\n"
     ]
    }
   ],
   "source": [
    "# This task is to practice the measures of center for quantitative data\n",
    "import numpy as np\n",
    "from scipy import stats\n",
    "# A dataset given\n",
    "data=np.array([34, 29, 22, 21, 21, 0, 5, 7, 10, 13, 18, 18, 19, 20, 20, 14, 14, 15, 16, 18])\n",
    "\n",
    "# Show the number of data values\n",
    "print(\"Total number of data values:\", len(data))\n",
    "\n",
    "# Show the mean of the data values\n",
    "print(\"Mean: \", np.mean(data))\n",
    "\n",
    "# Show the median of the data values\n",
    "print(\"Data sorted in ascending: \", np.sort(data))\n",
    "print(\"Median: \", np.median(data))\n",
    "\n",
    "# Show the mode of the data values\n",
    "mode=stats.mode(data)\n",
    "print(\"Mode: \", mode[0])"
   ]
  },
  {
   "cell_type": "markdown",
   "id": "ed71af54",
   "metadata": {},
   "source": [
    "Task 12"
   ]
  },
  {
   "cell_type": "code",
   "execution_count": 45,
   "id": "2e04af50",
   "metadata": {},
   "outputs": [
    {
     "name": "stdout",
     "output_type": "stream",
     "text": [
      "Max:  34\n",
      "Min:  0\n",
      "Range of the dataset:  34\n",
      "Variance of population = 56.71\n",
      "Variance of sample = 59.00\n",
      "Standard deviation of population = 7.53\n",
      "Standard deviation of sample = 7.68\n"
     ]
    },
    {
     "data": {
      "image/png": "[encoded data removed]",
      "text/plain": [
       "<Figure size 432x288 with 1 Axes>"
      ]
     },
     "metadata": {
      "needs_background": "light"
     },
     "output_type": "display_data"
    },
    {
     "name": "stdout",
     "output_type": "stream",
     "text": [
      "Q1 =  13.75\n",
      "Q2 =  18.0\n",
      "Q3 =  20.25\n",
      "IQR =  6.5\n",
      "Outliers:  [34, 0]\n"
     ]
    },
    {
     "data": {
      "text/plain": [
       "{'whiskers': [<matplotlib.lines.Line2D at 0x7fc88eddeb50>,\n",
       "  <matplotlib.lines.Line2D at 0x7fc88eddee20>],\n",
       " 'caps': [<matplotlib.lines.Line2D at 0x7fc88ee541f0>,\n",
       "  <matplotlib.lines.Line2D at 0x7fc88ee54580>],\n",
       " 'boxes': [<matplotlib.lines.Line2D at 0x7fc88edde820>],\n",
       " 'medians': [<matplotlib.lines.Line2D at 0x7fc88ee54910>],\n",
       " 'fliers': [<matplotlib.lines.Line2D at 0x7fc88ee54ca0>],\n",
       " 'means': []}"
      ]
     },
     "execution_count": 45,
     "metadata": {},
     "output_type": "execute_result"
    },
    {
     "data": {
      "image/png": "[encoded data removed]",
      "text/plain": [
       "<Figure size 432x288 with 1 Axes>"
      ]
     },
     "metadata": {
      "needs_background": "light"
     },
     "output_type": "display_data"
    }
   ],
   "source": [
    "# This task is to practice the measures of dispersions for quantitative data\n",
    "import numpy as np\n",
    "import statistics\n",
    "\n",
    "# A dataset given\n",
    "data=np.array([34, 29, 22, 21, 21, 0, 5, 7, 10, 13, 18, 18, 19, 20, 20, 14, 14, 15, 16, 18])\n",
    "\n",
    "# Show the max value\n",
    "max=np.max(data)\n",
    "print(\"Max: \", max)\n",
    "\n",
    "# Show the min value\n",
    "min=np.min(data)\n",
    "print(\"Min: \", min)\n",
    "print (\"Range of the dataset: \", max - min )\n",
    "# Calculate the variance of population\n",
    "print(\"Variance of population = {:.2f}\".format(np.var(data)))\n",
    "# Calculate the variance of population\n",
    "print(\"Variance of sample = {:.2f}\".format(statistics.variance(data)))\n",
    "# Calculate the standard deviation of population\n",
    "print(\"Standard deviation of population = {:.2f}\".format(np.std(data)))\n",
    "# Calculate the standard deviation of sample\n",
    "print(\"Standard deviation of sample = {:.2f}\".format(statistics.stdev(data)))\n",
    "import matplotlib.pyplot as plt\n",
    "\n",
    "# Visualisation - plot histogram for the dataset\n",
    "plt.hist(data,\n",
    "bins=10,\n",
    "density=False,\n",
    "color=\"ForestGreen\")\n",
    "plt.xlabel(\"Data\")\n",
    "plt.ylabel(\"Frequency\")\n",
    "plt.title(\"Histogram\", fontsize=15)\n",
    "plt.show()\n",
    "# Quartiles\n",
    "Q1, Q2, Q3=np.percentile(data, [25, 50, 75])\n",
    "print(\"Q1 = \", Q1)\n",
    "print(\"Q2 = \", Q2)\n",
    "print(\"Q3 = \", Q3)\n",
    "# Interquartile range (IQR)\n",
    "IQR=Q3 - Q1\n",
    "print(\"IQR = \", IQR)\n",
    "lower_boundary = Q1 - 1.5*IQR\n",
    "upper_boundary = Q3 + 1.5*IQR\n",
    "# Identify the outliers\n",
    "outliers = filter(lambda x: x < lower_boundary or x > upper_boundary, data)\n",
    "print(\"Outliers: \", list(outliers))\n",
    "\n",
    "# Visualisation - plot horizontal boxplot\n",
    "plt.boxplot(data, vert=False)"
   ]
  },
  {
   "cell_type": "code",
   "execution_count": 47,
   "id": "653d5228",
   "metadata": {},
   "outputs": [
    {
     "data": {
      "image/png": "[encoded data removed]",
      "text/plain": [
       "<Figure size 432x288 with 1 Axes>"
      ]
     },
     "metadata": {
      "needs_background": "light"
     },
     "output_type": "display_data"
    }
   ],
   "source": [
    "# Compare two datasets using side-by-sdie boxplots\n",
    "data1=np.array([88, 82, 94, 77, 84, 90, 74, 71, 68, 62])\n",
    "data2=np.array([80, 62, 64, 47, 44, 60, 44, 31, 38, 42])\n",
    "\n",
    "data=list([data1, data2])\n",
    "fig, ax = plt.subplots()\n",
    "\n",
    "# build a box plot\n",
    "ax.boxplot(data)\n",
    "\n",
    "# title and axis labels\n",
    "ax.set_title('box plot')\n",
    "ax.set_xlabel('x-axis')\n",
    "ax.set_ylabel('y-axis')\n",
    "xticklabels=['category 1', 'category 2']\n",
    "ax.set_xticklabels(xticklabels)\n",
    "\n",
    "# add horizontal grid lines\n",
    "ax.yaxis.grid(True)\n",
    "\n",
    "# show the plot\n",
    "plt.show()"
   ]
  },
  {
   "cell_type": "code",
   "execution_count": 2,
   "id": "c8a1988f",
   "metadata": {},
   "outputs": [
    {
     "name": "stdout",
     "output_type": "stream",
     "text": [
      "E-value: [ 2. -1.  1.]\n",
      "E-vector [[ 6.66666667e-01  4.08248290e-01  7.07106781e-01]\n",
      " [ 3.33333333e-01 -4.08248290e-01  7.07106781e-01]\n",
      " [-6.66666667e-01  8.16496581e-01  5.66950743e-17]]\n"
     ]
    }
   ],
   "source": [
    "import numpy as np\n",
    "from numpy.linalg import eig\n",
    "a = np.array([[1, 0, -1], \n",
    "              [1, 0, 0],\n",
    "              [-2, 2, 1]])\n",
    "w,v=eig(a)\n",
    "print('E-value:', w)\n",
    "print('E-vector', v)"
   ]
  },
  {
   "cell_type": "markdown",
   "id": "23e2a3f5",
   "metadata": {},
   "source": [
    "# **Module 5 Statistical Inferences**"
   ]
  },
  {
   "cell_type": "code",
   "execution_count": 2,
   "id": "975597d2",
   "metadata": {},
   "outputs": [
    {
     "name": "stdout",
     "output_type": "stream",
     "text": [
      "The contingency table: \n",
      "         Math  Physics  Chemistry\n",
      "Male      10       20         30\n",
      "Female     6        9         17\n"
     ]
    },
    {
     "data": {
      "text/plain": [
       "<AxesSubplot:title={'center':'Stacked exam results by subjects'}, xlabel='Subjects', ylabel='Exam results'>"
      ]
     },
     "execution_count": 2,
     "metadata": {},
     "output_type": "execute_result"
    },
    {
     "data": {
      "image/png": "[encoded data removed]",
      "text/plain": [
       "<Figure size 432x288 with 1 Axes>"
      ]
     },
     "metadata": {
      "needs_background": "light"
     },
     "output_type": "display_data"
    },
    {
     "data": {
      "image/png": "[encoded data removed]",
      "text/plain": [
       "<Figure size 432x288 with 1 Axes>"
      ]
     },
     "metadata": {
      "needs_background": "light"
     },
     "output_type": "display_data"
    },
    {
     "data": {
      "image/png": "[encoded data removed]",
      "text/plain": [
       "<Figure size 432x288 with 1 Axes>"
      ]
     },
     "metadata": {
      "needs_background": "light"
     },
     "output_type": "display_data"
    },
    {
     "data": {
      "image/png": "[encoded data removed]",
      "text/plain": [
       "<Figure size 432x288 with 1 Axes>"
      ]
     },
     "metadata": {
      "needs_background": "light"
     },
     "output_type": "display_data"
    },
    {
     "data": {
      "image/png": "[encoded data removed]",
      "text/plain": [
       "<Figure size 432x288 with 1 Axes>"
      ]
     },
     "metadata": {
      "needs_background": "light"
     },
     "output_type": "display_data"
    }
   ],
   "source": [
    "# This task is to practice the association of two categorical variables\n",
    "import pandas as pd\n",
    "import matplotlib.pyplot as plt\n",
    "\n",
    "# contingency table\n",
    "table = [[10, 20, 30],\n",
    "[6, 9, 17]]\n",
    "\n",
    "# create a dataframe based on the contingency table\n",
    "df = pd.DataFrame (table, index=['Male', 'Female'], columns=['Math', 'Physics', 'Chemistry'])\n",
    "print(\"The contingency table: \\n\", df)\n",
    "\n",
    "# bar plot 1\n",
    "df.plot.bar(xlabel=\"Gender\", ylabel=\"Exam results\", title=\"Exam results by gender\")\n",
    "\n",
    "# bar plot 2\n",
    "df.plot.bar(y='Math', xlabel=\"Gender\", ylabel=\"Exam results\", title=\"Math results by gender\")\n",
    "\n",
    "# bar plot 3\n",
    "# .T is to transpose the contingency table/dataframe\n",
    "df.T.plot.bar(y='Male', xlabel=\"Subjects\", ylabel=\"Exam results\", title=\"Male's exam results by subjects\")\n",
    "\n",
    "# bar plot 4\n",
    "df.T.plot.bar(xlabel=\"Subjects\", ylabel=\"Exam results\", title=\"Exam results by subjects\")\n",
    "df.T.plot.bar(stacked=True, xlabel=\"Subjects\", ylabel=\"Exam results\", title=\"Stacked exam results by subjects\")"
   ]
  },
  {
   "cell_type": "code",
   "execution_count": 3,
   "id": "dbb5e67f",
   "metadata": {},
   "outputs": [
    {
     "name": "stdout",
     "output_type": "stream",
     "text": [
      "The table of conditional proportions: \n",
      "             Math   Physics  Chemistry\n",
      "Male    0.166667  0.333333    0.50000\n",
      "Female  0.187500  0.281250    0.53125\n"
     ]
    },
    {
     "data": {
      "text/plain": [
       "<AxesSubplot:xlabel='Subjects', ylabel='Proportions of Exam results'>"
      ]
     },
     "execution_count": 3,
     "metadata": {},
     "output_type": "execute_result"
    },
    {
     "data": {
      "image/png": "[encoded data removed]",
      "text/plain": [
       "<Figure size 432x288 with 1 Axes>"
      ]
     },
     "metadata": {
      "needs_background": "light"
     },
     "output_type": "display_data"
    }
   ],
   "source": [
    "# Contingency table of condictional proportions\n",
    "table = [[10/60, 20/60, 30/60],\n",
    "[6/32, 9/32, 17/32]]\n",
    "df = pd.DataFrame (table, index=['Male', 'Female'], columns=['Math', 'Physics', 'Chemistry'])\n",
    "print(\"The table of conditional proportions: \\n\", df)\n",
    "df.T.plot.bar(xlabel=\"Subjects\", ylabel=\"Proportions of Exam results\")"
   ]
  },
  {
   "cell_type": "code",
   "execution_count": 4,
   "id": "dc220b8b",
   "metadata": {},
   "outputs": [
    {
     "data": {
      "image/png": "[encoded data removed]",
      "text/plain": [
       "<Figure size 432x288 with 1 Axes>"
      ]
     },
     "metadata": {
      "needs_background": "light"
     },
     "output_type": "display_data"
    },
    {
     "name": "stdout",
     "output_type": "stream",
     "text": [
      "-13.0\n",
      "linear correlation coefficient r =  -0.9456108576893003\n"
     ]
    }
   ],
   "source": [
    "# This task is to measure the relationships between two quantitative variables\n",
    "import numpy as np\n",
    "import matplotlib.pyplot as plt\n",
    "\n",
    "x=np.array([1, 3, 3, 6, 7])\n",
    "y=np.array([18, 13, 9, 6, 4])\n",
    "\n",
    "# scatterplot\n",
    "plt.plot(x, y, marker='.', linestyle='none')\n",
    "plt.xlabel('x')\n",
    "plt.ylabel('y')\n",
    "plt.show()\n",
    "\n",
    "# Compute the covariance matrix\n",
    "covariance_matrix = np.cov(y, x)\n",
    "\n",
    "# Extrac the covariance of x and y\n",
    "print(covariance_matrix[0, 1])\n",
    "\n",
    "# Compute Pearson correlation coefficient\n",
    "pearson_r = np.corrcoef(y, x)\n",
    "print(\"linear correlation coefficient r = \", pearson_r[0, 1])"
   ]
  },
  {
   "cell_type": "code",
   "execution_count": 5,
   "id": "2f0bed15",
   "metadata": {},
   "outputs": [
    {
     "name": "stdout",
     "output_type": "stream",
     "text": [
      "Correlation for dataset 1 = 0.816\n",
      "Correlation for dataset 2 = 0.816\n",
      "Correlation for dataset 3 = 0.816\n",
      "Correlation for dataset 4 = 0.817\n"
     ]
    },
    {
     "data": {
      "text/plain": [
       "(0.0, 20.0, 0.0, 14.0)"
      ]
     },
     "execution_count": 5,
     "metadata": {},
     "output_type": "execute_result"
    },
    {
     "data": {
      "image/png": "[encoded data removed]",
      "text/plain": [
       "<Figure size 432x288 with 4 Axes>"
      ]
     },
     "metadata": {
      "needs_background": "light"
     },
     "output_type": "display_data"
    }
   ],
   "source": [
    "# Anscombe's quartet dataset\n",
    "import numpy as np\n",
    "import matplotlib.pyplot as plt\n",
    "\n",
    "# Dataset 1\n",
    "x1 = [10.0, 8.0, 13.0, 9.0, 11.0, 14.0, 6.0, 4.0, 12.0, 7.0, 5.0]\n",
    "y1 = [8.04, 6.95, 7.58, 8.81, 8.33, 9.96, 7.24, 4.26, 10.84, 4.82, 5.68]\n",
    "\n",
    "# Dataset 2\n",
    "x2 = [10.0, 8.0, 13.0, 9.0, 11.0, 14.0, 6.0, 4.0, 12.0, 7.0, 5.0]\n",
    "y2 = [9.14, 8.14, 8.74, 8.77, 9.26, 8.10, 6.13, 3.10, 9.13, 7.26, 4.74]\n",
    "\n",
    "# Dataset 3\n",
    "x3 = [10.0, 8.0, 13.0, 9.0, 11.0, 14.0, 6.0, 4.0, 12.0, 7.0, 5.0]\n",
    "y3 = [7.46, 6.77, 12.74, 7.11, 7.81, 8.84, 6.08, 5.39, 8.15, 6.42, 5.73]\n",
    "\n",
    "# Dataset 4\n",
    "x4 = [8.0, 8.0, 8.0, 8.0, 8.0, 8.0, 8.0, 19.0, 8.0, 8.0, 8.0]\n",
    "y4 = [6.58, 5.76, 7.71, 8.84, 8.47, 7.04, 5.25, 12.50, 5.56, 7.91, 6.89]\n",
    "\n",
    "xmax = 20\n",
    "ymax = 14\n",
    "# Correlation coefficient of dataset 1\n",
    "pearson_r1=np.corrcoef(y1, x1)\n",
    "print(\"Correlation for dataset 1 = {:.3f}\".format(pearson_r1[0, 1]))\n",
    "# Correlation coefficient of dataset 2\n",
    "pearson_r2=np.corrcoef(y2, x2)\n",
    "print(\"Correlation for dataset 2 = {:.3f}\".format(pearson_r2[0, 1]))\n",
    "# Correlation coefficient of dataset 3\n",
    "pearson_r3=np.corrcoef(y3, x3)\n",
    "print(\"Correlation for dataset 3 = {:.3f}\".format(pearson_r3[0, 1]))\n",
    "# Correlation coefficient of dataset 4\n",
    "pearson_r4=np.corrcoef(y4, x4)\n",
    "print(\"Correlation for dataset 4 = {:.3f}\".format(pearson_r4[0, 1]))\n",
    "# scatterplots\n",
    "ax1 = plt.subplot(2, 2, 1)\n",
    "plt.plot(x1, y1, marker='.', linestyle='none')\n",
    "plt.subplot(2, 2, 2, sharex=ax1, sharey=ax1)\n",
    "plt.plot(x2, y2, marker='.', linestyle='none')\n",
    "plt.subplot(2, 2, 3, sharex=ax1, sharey=ax1)\n",
    "plt.plot(x3, y3, marker='.', linestyle='none')\n",
    "plt.subplot(2, 2, 4, sharex=ax1, sharey=ax1)\n",
    "plt.plot(x4, y4, marker='.', linestyle='none')\n",
    "plt.axis([0, xmax, 0, ymax])"
   ]
  },
  {
   "cell_type": "code",
   "execution_count": 6,
   "id": "d72e91c4",
   "metadata": {},
   "outputs": [
    {
     "name": "stdout",
     "output_type": "stream",
     "text": [
      "The 95% confidence interval: [0.4442, 0.4974]\n"
     ]
    }
   ],
   "source": [
    "# This task is to practice the construction of confidence interval\n",
    "# Construct a confidence interval to estimate a population proportion\n",
    "\n",
    "import numpy as np\n",
    "from math import sqrt\n",
    "from scipy.stats import norm\n",
    "\n",
    "# sample size\n",
    "n = 1353\n",
    "# number of successes\n",
    "\n",
    "x = 637\n",
    "# sample proportion\n",
    "p_hat = x/n\n",
    "\n",
    "# Standard error\n",
    "se = sqrt(p_hat * (1 - p_hat)/n)\n",
    "confidence_level = 0.95\n",
    "\n",
    "# z-score\n",
    "z_score = norm.ppf(q=(1 - confidence_level)/2 + confidence_level)\n",
    "\n",
    "# confidence interval\n",
    "lower_bound = p_hat - z_score * se\n",
    "upper_bound = p_hat + z_score * se\n",
    "print(\"The {:.0f}% confidence interval: [{:.4f}, {:.4f}]\".format(confidence_level*100, lower_bound, upper_bound))"
   ]
  },
  {
   "cell_type": "code",
   "execution_count": 7,
   "id": "079854b4",
   "metadata": {},
   "outputs": [
    {
     "name": "stdout",
     "output_type": "stream",
     "text": [
      "The 90% confidence interval: [0.6875, 5.3125]\n"
     ]
    }
   ],
   "source": [
    "# Construct a confidence interval to estimate a population mean\n",
    "import numpy as np\n",
    "from math import sqrt\n",
    "import statistics\n",
    "from scipy.stats import t\n",
    "import matplotlib.pyplot as plt\n",
    "\n",
    "sample=np.array([1.7, 0.7, -0.1, -0.7, -3.5, 14.9, 3.5, 17.1, -7.6, 1.6,\n",
    "11.7, 6.1, 1.1, -4.0, 20.9, -9.3, 2.1, 1.4, -0.3, -3.7,\n",
    "-1.4, -0.8, 2.4, 12.6, 1.9, 3.9, 0.1, 15.4, -0.7])\n",
    "\n",
    "# sample size\n",
    "n = len(sample)\n",
    "\n",
    "# sample mean\n",
    "x_bar = statistics.mean(sample)\n",
    "\n",
    "# sample standard deviation\n",
    "s = statistics.stdev(sample)\n",
    "\n",
    "# Standard error\n",
    "se=s/sqrt(n)\n",
    "confidence_level = 0.90\n",
    "\n",
    "# degrees of freedom of the t distribution\n",
    "df = n-1\n",
    "\n",
    "# t-score\n",
    "t_score = t.ppf(q=(1 - confidence_level)/2 + confidence_level, df=df)\n",
    "\n",
    "#print(t_score)\n",
    "# confidence interval\n",
    "lower_bound = x_bar - t_score * se\n",
    "upper_bound = x_bar + t_score * se\n",
    "print(\"The {:.0f}% confidence interval: [{:.4f}, {:.4f}]\".format(confidence_level*100, lower_bound, upper_bound))"
   ]
  },
  {
   "cell_type": "code",
   "execution_count": 9,
   "id": "14c62b66",
   "metadata": {},
   "outputs": [
    {
     "name": "stdout",
     "output_type": "stream",
     "text": [
      "Calculated z test statistic= 0.816\n",
      "\n",
      "P-value =  0.41421617824252466\n",
      "No significant difference found\n"
     ]
    },
    {
     "data": {
      "text/plain": [
       "(-0.8164965809277268, 0.41421617824252466)"
      ]
     },
     "execution_count": 9,
     "metadata": {},
     "output_type": "execute_result"
    }
   ],
   "source": [
    "# This task is to practice hypothesis test for population proportion (estimate population proportion based on 1 sample)\n",
    "from math import sqrt\n",
    "from scipy.stats import norm\n",
    "\n",
    "# p0: hypothesized population proportion\n",
    "# x: number of successes\n",
    "# n: sample size\n",
    "p0=0.6\n",
    "x=64\n",
    "n=100\n",
    "\n",
    "# Null hypothesis H0: the proportion of the sample group is same as the proportion of the population (p=p0)\n",
    "# Alternative hypothesis H1: the proportion of the sample group differ from the proportion of the population (p!=p0)\n",
    "# calculate the test statistic\n",
    "z_score=(x/n - p0)/sqrt(p0*(1-p0)/n)\n",
    "print(\"Calculated z test statistic= %.3f\\n\" %(z_score))\n",
    "\n",
    "# Find the p-value, i.e. area of probability for the two-tailed test\n",
    "if (z_score < 0):\n",
    "    p_value = 2 * norm.cdf(x=z_score)\n",
    "else:\n",
    "    p_value = 2*(1 - norm.cdf(x=z_score))\n",
    "print(\"P-value = \", p_value)\n",
    "\n",
    "# Test significance - compare p-value with alpha (significance level)\n",
    "alpha=0.05\n",
    "if (p_value < alpha):\n",
    "    print(\"proportion of the sample differs from given population proportion\") \n",
    "\n",
    "# reject null hypothesis\n",
    "else:\n",
    "    print(\"No significant difference found\") \n",
    "\n",
    "# accept null hypothesis\n",
    "# Apart from the above manual approach, we can also use the advanced function provided.\n",
    "# proportions_ztest(count, nobs, value=None, alternative=’two-sided’)\n",
    "# Parameters - count: The number of successes, nobs: The number of trials,\n",
    "# value: The hypothesized population proportion, alternative: The alternative hypothesis\n",
    "from statsmodels.stats.proportion import proportions_ztest\n",
    "\n",
    "#perform one proportion z-test\n",
    "proportions_ztest(count=60, nobs=100, value=0.64)"
   ]
  },
  {
   "cell_type": "code",
   "execution_count": 11,
   "id": "0b508d37",
   "metadata": {},
   "outputs": [
    {
     "name": "stdout",
     "output_type": "stream",
     "text": [
      "Calculated t test statistic= -0.142\n",
      "\n",
      "P-value =  0.8940381290746889\n",
      "No significant difference found\n",
      "Ttest_1sampResult(statistic=-0.14187430361917347, pvalue=0.8940381290746852)\n",
      "No significant difference found\n"
     ]
    }
   ],
   "source": [
    "# This task is to practice hypothesis test for population mean (estimate population mean based on 1 sample))\n",
    "# Here is an exmple of one-sample t-test\n",
    "from scipy import stats\n",
    "import numpy as np\n",
    "from math import sqrt\n",
    "from scipy.stats import t\n",
    "import statistics\n",
    "\n",
    "# A dataset of small size sample for the weight (kg) of a group of people\n",
    "Sample = [54.2, 66.4, 66.9, 64.4, 71.1]\n",
    "\n",
    "# Hypothesized population mean\n",
    "population_mean=65\n",
    "\n",
    "# Null hypothesis H0: the weight of the sample group is same as the weight of the population (u=65)\n",
    "# Alternative hypothesis H1: the weight of the sample group differ from teh weight of the population (u!=65)\n",
    "# calcuate t test statistic\n",
    "t_score = (statistics.mean(Sample) - population_mean)/(statistics.stdev(Sample)/sqrt(len(Sample)))\n",
    "print(\"Calculated t test statistic= %.3f\\n\" %(t_score))\n",
    "\n",
    "df = len(Sample) - 1 # degree of freedom of the t distribution\n",
    "# Find the p-value, i.e. area of probability for the two-tailed test\n",
    "if (t_score < 0):\n",
    "    p_value = 2 * t.cdf(x=t_score, df=df)\n",
    "else:\n",
    "    p_value = 2*(1 - t.cdf(x=t_score, df=df))\n",
    "    \n",
    "print(\"P-value = \", p_value)\n",
    "\n",
    "# Test significance - compare p-value with alpha (significance level)\n",
    "alpha= 0.05\n",
    "if (p_value < alpha):\n",
    "    print(\"mean value of the sample differs from given populatin mean\") #reject null hypothesis\n",
    "else:\n",
    "    print(\"No significant difference found\") # accept null hypothesis\n",
    "\n",
    "# Apart from the above manual approach, we can use the advanced function provided.\n",
    "# Perform one-sample t-test to compare the mean of the group to a hypothesized mean of 65(kg)\n",
    "t_result=stats.ttest_1samp(Sample, 65)\n",
    "print(t_result)\n",
    "\n",
    "# Test significance - compare p-value with alpha (significance level)\n",
    "alpha= 0.05\n",
    "if (t_result[1] < alpha):\n",
    "    print(\"mean value of Sample A differs from given value\") # reject null hypothesis\n",
    "else:\n",
    "    print(\"No significant difference found\") # accept null hypothesis"
   ]
  },
  {
   "cell_type": "code",
   "execution_count": 12,
   "id": "fbac1ebd",
   "metadata": {},
   "outputs": [
    {
     "name": "stdout",
     "output_type": "stream",
     "text": [
      "The contingency table: \n",
      "         Math  Physics  Chemistry\n",
      "Male      10       20         30\n",
      "Female     6        9         17\n",
      "\n",
      "Degree of freedom = 2 \n",
      "\n",
      "The expected contingency table: \n",
      "              Math    Physics  Chemistry\n",
      "Male    10.434783  18.913043  30.652174\n",
      "Female   5.565217  10.086957  16.347826\n",
      "\n",
      "probability=0.950, critical value=5.991, chi-square value=0.272\n",
      "Gender and result are independent (accept H0)\n",
      "\n",
      "significance=0.050, p-value=0.873\n",
      "Gender and result are independent (accept H0)\n"
     ]
    }
   ],
   "source": [
    "# This task is to practice chi-squared test\n",
    "from scipy.stats import chi2_contingency\n",
    "from scipy.stats import chi2\n",
    "import pandas as pd\n",
    "\n",
    "# contingency table\n",
    "table = [[10, 20, 30],\n",
    "        [6, 9, 17]]\n",
    "\n",
    "df = pd.DataFrame (table, index=['Male', 'Female'], columns=['Math', 'Physics', 'Chemistry'])\n",
    "print(\"The contingency table: \\n\", df)\n",
    "\n",
    "# Conduct chi-squared test to examine whether these two variables,i.e.\n",
    "# “Gender\" (male / female) and \"results\" (math/physica/chemistry), are\n",
    "# statistically independent (= null hypothesis) or statistically depdent (=alternative hypothesis)\n",
    "stat, p, dof, expected = chi2_contingency(table)\n",
    "\n",
    "# degrees of freedom: (rows - 1) * (cols - 1)\n",
    "print('\\nDegree of freedom = %d \\n' % dof)\n",
    "\n",
    "# Expected values\n",
    "df_expected = pd.DataFrame (expected, index=['Male', 'Female'], columns=['Math', 'Physics', 'Chemistry'])\n",
    "print(\"The expected contingency table: \\n\", df_expected)\n",
    "\n",
    "# interpret test-statistic\n",
    "prob = 0.95\n",
    "critical = chi2.ppf(prob, dof)\n",
    "print('\\nprobability=%.3f, critical value=%.3f, chi-square value=%.3f' % (prob, critical, stat))\n",
    "\n",
    "# If Statistic >= Critical Value: significant result, reject null hypothesis (H0), dependent.\n",
    "# If Statistic < Critical Value: not significant result, fail to reject null hypothesis (H0), independent.\n",
    "if abs(stat) >= critical:\n",
    "    print('Gender and result are dependent (reject H0)')\n",
    "else:\n",
    "    print('Gender and result are independent (accept H0)\\n')\n",
    "    \n",
    "# interpret p-value\n",
    "alpha = 1.0 - prob\n",
    "print('significance=%.3f, p-value=%.3f' % (alpha, p))\n",
    "if p <= alpha:\n",
    "    print('Gender and result are dependent (reject H0)')\n",
    "else:\n",
    "    print('Gender and result are independent (accept H0)')"
   ]
  },
  {
   "cell_type": "code",
   "execution_count": 14,
   "id": "89d52e61",
   "metadata": {},
   "outputs": [
    {
     "ename": "FileNotFoundError",
     "evalue": "[Errno 2] No such file or directory: 'usedcars.csv'",
     "output_type": "error",
     "traceback": [
      "\u001b[0;31m---------------------------------------------------------------------------\u001b[0m",
      "\u001b[0;31mFileNotFoundError\u001b[0m                         Traceback (most recent call last)",
      "\u001b[0;32m/var/folders/t0/vv75knk555sbfc42cx0y7wg80000gn/T/ipykernel_8360/3676709060.py\u001b[0m in \u001b[0;36m<module>\u001b[0;34m\u001b[0m\n\u001b[1;32m      5\u001b[0m \u001b[0;34m\u001b[0m\u001b[0m\n\u001b[1;32m      6\u001b[0m \u001b[0;31m# Read dataset\u001b[0m\u001b[0;34m\u001b[0m\u001b[0;34m\u001b[0m\u001b[0m\n\u001b[0;32m----> 7\u001b[0;31m \u001b[0mdata\u001b[0m \u001b[0;34m=\u001b[0m \u001b[0mpd\u001b[0m\u001b[0;34m.\u001b[0m\u001b[0mread_csv\u001b[0m\u001b[0;34m(\u001b[0m\u001b[0;34m\"usedcars.csv\"\u001b[0m\u001b[0;34m)\u001b[0m\u001b[0;34m\u001b[0m\u001b[0;34m\u001b[0m\u001b[0m\n\u001b[0m\u001b[1;32m      8\u001b[0m \u001b[0mx_data\u001b[0m \u001b[0;34m=\u001b[0m \u001b[0mdata\u001b[0m\u001b[0;34m.\u001b[0m\u001b[0mmileage\u001b[0m\u001b[0;34m\u001b[0m\u001b[0;34m\u001b[0m\u001b[0m\n\u001b[1;32m      9\u001b[0m \u001b[0my_data\u001b[0m \u001b[0;34m=\u001b[0m \u001b[0mdata\u001b[0m\u001b[0;34m.\u001b[0m\u001b[0mprice\u001b[0m\u001b[0;34m\u001b[0m\u001b[0;34m\u001b[0m\u001b[0m\n",
      "\u001b[0;32m~/opt/anaconda3/lib/python3.9/site-packages/pandas/util/_decorators.py\u001b[0m in \u001b[0;36mwrapper\u001b[0;34m(*args, **kwargs)\u001b[0m\n\u001b[1;32m    309\u001b[0m                     \u001b[0mstacklevel\u001b[0m\u001b[0;34m=\u001b[0m\u001b[0mstacklevel\u001b[0m\u001b[0;34m,\u001b[0m\u001b[0;34m\u001b[0m\u001b[0;34m\u001b[0m\u001b[0m\n\u001b[1;32m    310\u001b[0m                 )\n\u001b[0;32m--> 311\u001b[0;31m             \u001b[0;32mreturn\u001b[0m \u001b[0mfunc\u001b[0m\u001b[0;34m(\u001b[0m\u001b[0;34m*\u001b[0m\u001b[0margs\u001b[0m\u001b[0;34m,\u001b[0m \u001b[0;34m**\u001b[0m\u001b[0mkwargs\u001b[0m\u001b[0;34m)\u001b[0m\u001b[0;34m\u001b[0m\u001b[0;34m\u001b[0m\u001b[0m\n\u001b[0m\u001b[1;32m    312\u001b[0m \u001b[0;34m\u001b[0m\u001b[0m\n\u001b[1;32m    313\u001b[0m         \u001b[0;32mreturn\u001b[0m \u001b[0mwrapper\u001b[0m\u001b[0;34m\u001b[0m\u001b[0;34m\u001b[0m\u001b[0m\n",
      "\u001b[0;32m~/opt/anaconda3/lib/python3.9/site-packages/pandas/io/parsers/readers.py\u001b[0m in \u001b[0;36mread_csv\u001b[0;34m(filepath_or_buffer, sep, delimiter, header, names, index_col, usecols, squeeze, prefix, mangle_dupe_cols, dtype, engine, converters, true_values, false_values, skipinitialspace, skiprows, skipfooter, nrows, na_values, keep_default_na, na_filter, verbose, skip_blank_lines, parse_dates, infer_datetime_format, keep_date_col, date_parser, dayfirst, cache_dates, iterator, chunksize, compression, thousands, decimal, lineterminator, quotechar, quoting, doublequote, escapechar, comment, encoding, encoding_errors, dialect, error_bad_lines, warn_bad_lines, on_bad_lines, delim_whitespace, low_memory, memory_map, float_precision, storage_options)\u001b[0m\n\u001b[1;32m    584\u001b[0m     \u001b[0mkwds\u001b[0m\u001b[0;34m.\u001b[0m\u001b[0mupdate\u001b[0m\u001b[0;34m(\u001b[0m\u001b[0mkwds_defaults\u001b[0m\u001b[0;34m)\u001b[0m\u001b[0;34m\u001b[0m\u001b[0;34m\u001b[0m\u001b[0m\n\u001b[1;32m    585\u001b[0m \u001b[0;34m\u001b[0m\u001b[0m\n\u001b[0;32m--> 586\u001b[0;31m     \u001b[0;32mreturn\u001b[0m \u001b[0m_read\u001b[0m\u001b[0;34m(\u001b[0m\u001b[0mfilepath_or_buffer\u001b[0m\u001b[0;34m,\u001b[0m \u001b[0mkwds\u001b[0m\u001b[0;34m)\u001b[0m\u001b[0;34m\u001b[0m\u001b[0;34m\u001b[0m\u001b[0m\n\u001b[0m\u001b[1;32m    587\u001b[0m \u001b[0;34m\u001b[0m\u001b[0m\n\u001b[1;32m    588\u001b[0m \u001b[0;34m\u001b[0m\u001b[0m\n",
      "\u001b[0;32m~/opt/anaconda3/lib/python3.9/site-packages/pandas/io/parsers/readers.py\u001b[0m in \u001b[0;36m_read\u001b[0;34m(filepath_or_buffer, kwds)\u001b[0m\n\u001b[1;32m    480\u001b[0m \u001b[0;34m\u001b[0m\u001b[0m\n\u001b[1;32m    481\u001b[0m     \u001b[0;31m# Create the parser.\u001b[0m\u001b[0;34m\u001b[0m\u001b[0;34m\u001b[0m\u001b[0m\n\u001b[0;32m--> 482\u001b[0;31m     \u001b[0mparser\u001b[0m \u001b[0;34m=\u001b[0m \u001b[0mTextFileReader\u001b[0m\u001b[0;34m(\u001b[0m\u001b[0mfilepath_or_buffer\u001b[0m\u001b[0;34m,\u001b[0m \u001b[0;34m**\u001b[0m\u001b[0mkwds\u001b[0m\u001b[0;34m)\u001b[0m\u001b[0;34m\u001b[0m\u001b[0;34m\u001b[0m\u001b[0m\n\u001b[0m\u001b[1;32m    483\u001b[0m \u001b[0;34m\u001b[0m\u001b[0m\n\u001b[1;32m    484\u001b[0m     \u001b[0;32mif\u001b[0m \u001b[0mchunksize\u001b[0m \u001b[0;32mor\u001b[0m \u001b[0miterator\u001b[0m\u001b[0;34m:\u001b[0m\u001b[0;34m\u001b[0m\u001b[0;34m\u001b[0m\u001b[0m\n",
      "\u001b[0;32m~/opt/anaconda3/lib/python3.9/site-packages/pandas/io/parsers/readers.py\u001b[0m in \u001b[0;36m__init__\u001b[0;34m(self, f, engine, **kwds)\u001b[0m\n\u001b[1;32m    809\u001b[0m             \u001b[0mself\u001b[0m\u001b[0;34m.\u001b[0m\u001b[0moptions\u001b[0m\u001b[0;34m[\u001b[0m\u001b[0;34m\"has_index_names\"\u001b[0m\u001b[0;34m]\u001b[0m \u001b[0;34m=\u001b[0m \u001b[0mkwds\u001b[0m\u001b[0;34m[\u001b[0m\u001b[0;34m\"has_index_names\"\u001b[0m\u001b[0;34m]\u001b[0m\u001b[0;34m\u001b[0m\u001b[0;34m\u001b[0m\u001b[0m\n\u001b[1;32m    810\u001b[0m \u001b[0;34m\u001b[0m\u001b[0m\n\u001b[0;32m--> 811\u001b[0;31m         \u001b[0mself\u001b[0m\u001b[0;34m.\u001b[0m\u001b[0m_engine\u001b[0m \u001b[0;34m=\u001b[0m \u001b[0mself\u001b[0m\u001b[0;34m.\u001b[0m\u001b[0m_make_engine\u001b[0m\u001b[0;34m(\u001b[0m\u001b[0mself\u001b[0m\u001b[0;34m.\u001b[0m\u001b[0mengine\u001b[0m\u001b[0;34m)\u001b[0m\u001b[0;34m\u001b[0m\u001b[0;34m\u001b[0m\u001b[0m\n\u001b[0m\u001b[1;32m    812\u001b[0m \u001b[0;34m\u001b[0m\u001b[0m\n\u001b[1;32m    813\u001b[0m     \u001b[0;32mdef\u001b[0m \u001b[0mclose\u001b[0m\u001b[0;34m(\u001b[0m\u001b[0mself\u001b[0m\u001b[0;34m)\u001b[0m\u001b[0;34m:\u001b[0m\u001b[0;34m\u001b[0m\u001b[0;34m\u001b[0m\u001b[0m\n",
      "\u001b[0;32m~/opt/anaconda3/lib/python3.9/site-packages/pandas/io/parsers/readers.py\u001b[0m in \u001b[0;36m_make_engine\u001b[0;34m(self, engine)\u001b[0m\n\u001b[1;32m   1038\u001b[0m             )\n\u001b[1;32m   1039\u001b[0m         \u001b[0;31m# error: Too many arguments for \"ParserBase\"\u001b[0m\u001b[0;34m\u001b[0m\u001b[0;34m\u001b[0m\u001b[0m\n\u001b[0;32m-> 1040\u001b[0;31m         \u001b[0;32mreturn\u001b[0m \u001b[0mmapping\u001b[0m\u001b[0;34m[\u001b[0m\u001b[0mengine\u001b[0m\u001b[0;34m]\u001b[0m\u001b[0;34m(\u001b[0m\u001b[0mself\u001b[0m\u001b[0;34m.\u001b[0m\u001b[0mf\u001b[0m\u001b[0;34m,\u001b[0m \u001b[0;34m**\u001b[0m\u001b[0mself\u001b[0m\u001b[0;34m.\u001b[0m\u001b[0moptions\u001b[0m\u001b[0;34m)\u001b[0m  \u001b[0;31m# type: ignore[call-arg]\u001b[0m\u001b[0;34m\u001b[0m\u001b[0;34m\u001b[0m\u001b[0m\n\u001b[0m\u001b[1;32m   1041\u001b[0m \u001b[0;34m\u001b[0m\u001b[0m\n\u001b[1;32m   1042\u001b[0m     \u001b[0;32mdef\u001b[0m \u001b[0m_failover_to_python\u001b[0m\u001b[0;34m(\u001b[0m\u001b[0mself\u001b[0m\u001b[0;34m)\u001b[0m\u001b[0;34m:\u001b[0m\u001b[0;34m\u001b[0m\u001b[0;34m\u001b[0m\u001b[0m\n",
      "\u001b[0;32m~/opt/anaconda3/lib/python3.9/site-packages/pandas/io/parsers/c_parser_wrapper.py\u001b[0m in \u001b[0;36m__init__\u001b[0;34m(self, src, **kwds)\u001b[0m\n\u001b[1;32m     49\u001b[0m \u001b[0;34m\u001b[0m\u001b[0m\n\u001b[1;32m     50\u001b[0m         \u001b[0;31m# open handles\u001b[0m\u001b[0;34m\u001b[0m\u001b[0;34m\u001b[0m\u001b[0m\n\u001b[0;32m---> 51\u001b[0;31m         \u001b[0mself\u001b[0m\u001b[0;34m.\u001b[0m\u001b[0m_open_handles\u001b[0m\u001b[0;34m(\u001b[0m\u001b[0msrc\u001b[0m\u001b[0;34m,\u001b[0m \u001b[0mkwds\u001b[0m\u001b[0;34m)\u001b[0m\u001b[0;34m\u001b[0m\u001b[0;34m\u001b[0m\u001b[0m\n\u001b[0m\u001b[1;32m     52\u001b[0m         \u001b[0;32massert\u001b[0m \u001b[0mself\u001b[0m\u001b[0;34m.\u001b[0m\u001b[0mhandles\u001b[0m \u001b[0;32mis\u001b[0m \u001b[0;32mnot\u001b[0m \u001b[0;32mNone\u001b[0m\u001b[0;34m\u001b[0m\u001b[0;34m\u001b[0m\u001b[0m\n\u001b[1;32m     53\u001b[0m \u001b[0;34m\u001b[0m\u001b[0m\n",
      "\u001b[0;32m~/opt/anaconda3/lib/python3.9/site-packages/pandas/io/parsers/base_parser.py\u001b[0m in \u001b[0;36m_open_handles\u001b[0;34m(self, src, kwds)\u001b[0m\n\u001b[1;32m    220\u001b[0m         \u001b[0mLet\u001b[0m \u001b[0mthe\u001b[0m \u001b[0mreaders\u001b[0m \u001b[0mopen\u001b[0m \u001b[0mIOHandles\u001b[0m \u001b[0mafter\u001b[0m \u001b[0mthey\u001b[0m \u001b[0mare\u001b[0m \u001b[0mdone\u001b[0m \u001b[0;32mwith\u001b[0m \u001b[0mtheir\u001b[0m \u001b[0mpotential\u001b[0m \u001b[0mraises\u001b[0m\u001b[0;34m.\u001b[0m\u001b[0;34m\u001b[0m\u001b[0;34m\u001b[0m\u001b[0m\n\u001b[1;32m    221\u001b[0m         \"\"\"\n\u001b[0;32m--> 222\u001b[0;31m         self.handles = get_handle(\n\u001b[0m\u001b[1;32m    223\u001b[0m             \u001b[0msrc\u001b[0m\u001b[0;34m,\u001b[0m\u001b[0;34m\u001b[0m\u001b[0;34m\u001b[0m\u001b[0m\n\u001b[1;32m    224\u001b[0m             \u001b[0;34m\"r\"\u001b[0m\u001b[0;34m,\u001b[0m\u001b[0;34m\u001b[0m\u001b[0;34m\u001b[0m\u001b[0m\n",
      "\u001b[0;32m~/opt/anaconda3/lib/python3.9/site-packages/pandas/io/common.py\u001b[0m in \u001b[0;36mget_handle\u001b[0;34m(path_or_buf, mode, encoding, compression, memory_map, is_text, errors, storage_options)\u001b[0m\n\u001b[1;32m    700\u001b[0m         \u001b[0;32mif\u001b[0m \u001b[0mioargs\u001b[0m\u001b[0;34m.\u001b[0m\u001b[0mencoding\u001b[0m \u001b[0;32mand\u001b[0m \u001b[0;34m\"b\"\u001b[0m \u001b[0;32mnot\u001b[0m \u001b[0;32min\u001b[0m \u001b[0mioargs\u001b[0m\u001b[0;34m.\u001b[0m\u001b[0mmode\u001b[0m\u001b[0;34m:\u001b[0m\u001b[0;34m\u001b[0m\u001b[0;34m\u001b[0m\u001b[0m\n\u001b[1;32m    701\u001b[0m             \u001b[0;31m# Encoding\u001b[0m\u001b[0;34m\u001b[0m\u001b[0;34m\u001b[0m\u001b[0m\n\u001b[0;32m--> 702\u001b[0;31m             handle = open(\n\u001b[0m\u001b[1;32m    703\u001b[0m                 \u001b[0mhandle\u001b[0m\u001b[0;34m,\u001b[0m\u001b[0;34m\u001b[0m\u001b[0;34m\u001b[0m\u001b[0m\n\u001b[1;32m    704\u001b[0m                 \u001b[0mioargs\u001b[0m\u001b[0;34m.\u001b[0m\u001b[0mmode\u001b[0m\u001b[0;34m,\u001b[0m\u001b[0;34m\u001b[0m\u001b[0;34m\u001b[0m\u001b[0m\n",
      "\u001b[0;31mFileNotFoundError\u001b[0m: [Errno 2] No such file or directory: 'usedcars.csv'"
     ]
    }
   ],
   "source": [
    "import pandas as pd\n",
    "import matplotlib.pyplot as plt\n",
    "from scipy.stats import linregress\n",
    "import statsmodels.api as sm\n",
    "\n",
    "# Read dataset\n",
    "data = pd.read_csv(\"usedcars.csv\")\n",
    "x_data = data.mileage\n",
    "y_data = data.price\n",
    "x_label = \"mileage\"\n",
    "y_label = \"price\"\n",
    "\n",
    "# Import ols (least-squares regression) from statsmodels, and fit a model to the data\n",
    "from statsmodels.formula.api import ols\n",
    "formula = y_label + \"~\" + x_label\n",
    "model = ols(formula= formula, data=data) # formula Y-data ~ X-data\n",
    "model_fit = model.fit()\n",
    "\n",
    "# Extract the model parameter values\n",
    "intercept = model_fit.params['Intercept']\n",
    "slope = model_fit.params[x_label]\n",
    "\n",
    "# intercept = model_fit.params[0] # intercept\n",
    "# slope = model_fit.params[1]) # slope\n",
    "# Print model parameter values with meaningful names, and compare to summary()\n",
    "print( \"Intercept of fitted model = {:0.4f}\".format(intercept) )\n",
    "print( \"Slope of fitted model = {:0.4f}\".format(slope))\n",
    "print( model_fit.summary() )\n",
    "\n",
    "# Use plt.subplots() to create figure and axis objects.\n",
    "fig, axis = plt.subplots()\n",
    "\n",
    "# Call axis.plot() to plot data\n",
    "axis.plot(x_data, y_data, linestyle=\" \", marker=\"o\", color=\"black\", label=\"Measured\")\n",
    "\n",
    "# Call axis.plot() to plot the model\n",
    "x_fit = x_data\n",
    "y_fit = intercept + slope * x_data\n",
    "axis.plot(x_data, y_fit, linestyle=\"-\", marker=None, color=\"red\", label=\"Modeled\")\n",
    "\n",
    "# Add grid lines and a legend to your plot, and then show to display\n",
    "axis.grid(True)\n",
    "axis.legend(loc=\"best\")\n",
    "plt.show()"
   ]
  },
  {
   "cell_type": "code",
   "execution_count": 15,
   "id": "4379f248",
   "metadata": {},
   "outputs": [
    {
     "name": "stdout",
     "output_type": "stream",
     "text": [
      "Probability with replacement = 0.1202, without replacement = 0.0892\n"
     ]
    }
   ],
   "source": [
    "# This task is to practice samping with / without replacement\n",
    "# Consider a bowl filled with colored candies - three blue, two green, and five yellow.\n",
    "# Draw three candies, one at a time, with replacement and without replacement.\n",
    "# You want to calculate the probability that all three candies are yellow.\n",
    "import numpy as np\n",
    "\n",
    "# Set up the bowl as a list\n",
    "# having three blue 'b', two green 'g' and five yellow 'y' candies.\n",
    "success_rep, success_no_rep, sims = 0, 0, 10000\n",
    "bowl = list('b'*3 + 'g'*2 + 'y'*5)\n",
    "\n",
    "for i in range(sims):\n",
    "    \n",
    "    # Sample with and without replacement & increment success counters\n",
    "    # Draw a sample of three candies with replacement (sample_rep)\n",
    "    # and without replacement (sample_no_rep).\n",
    "    sample_rep = np.random.choice(bowl, size=3, replace=True)\n",
    "    sample_no_rep = np.random.choice(bowl, size=3, replace=False)\n",
    "    \n",
    "# For the sample with replacement, if there are no 'b' or 'g' candies in sample_rep,\n",
    "# increment success_rep\n",
    "    if ('b' not in sample_rep) & ('g' not in sample_rep) :\n",
    "        success_rep += 1\n",
    "\n",
    "# incrementsuccess_no_rep when there are no 'b' or 'g' candies in sample_no_rep.\n",
    "    if ('b' not in sample_no_rep) & ('g' not in sample_no_rep) :\n",
    "        success_no_rep += 1\n",
    "\n",
    "# Calculate probabilities\n",
    "prob_with_replacement = success_rep/sims\n",
    "prob_without_replacement = success_no_rep/sims\n",
    "print(\"Probability with replacement = {}, without replacement = {}\".\n",
    "    format(prob_with_replacement, prob_without_replacement))\n",
    "\n",
    "# We can expect a higher probability of all three candies being yellow\n",
    "# if we replace the candies after each draw."
   ]
  },
  {
   "cell_type": "code",
   "execution_count": 17,
   "id": "397941b5",
   "metadata": {},
   "outputs": [
    {
     "name": "stdout",
     "output_type": "stream",
     "text": [
      "Bootstrapped Mean Length = 10.0330708948414, 95% CI = [ 9.8060219  10.25843079]\n"
     ]
    }
   ],
   "source": [
    "# This task is to practice bootstrapping resampling\n",
    "# Suppose a factory produces wrenches. You want to be able to characterize the average length of the wrenches and\n",
    "# ensure that they meet some specifications. The factory produces thousands of wrenches every day, but\n",
    "# it's infeasible to measure the length of each wrench. However,\n",
    "# you have access to a representative sample of 100 wrenches.\n",
    "# Let's use bootstrapping to get the 95% confidence interval (CI) for the average lengths.\n",
    "# the sample size of wrench_length is 100\n",
    "wrench_lengths = [ 8.9143694 , 10.99734545, 10.2829785 , 8.49370529, 9.42139975,\n",
    "11.65143654, 7.57332076, 9.57108737, 11.26593626, 9.1332596 ,\n",
    "9.32111385, 9.90529103, 11.49138963, 9.361098 , 9.55601804,\n",
    "9.56564872, 12.20593008, 12.18678609, 11.0040539 , 10.3861864 ,\n",
    "10.73736858, 11.49073203, 9.06416613, 11.17582904, 8.74611933,\n",
    "9.3622485 , 10.9071052 , 8.5713193 , 9.85993128, 9.1382451 ,\n",
    "9.74438063, 7.20141089, 8.2284669 , 9.30012277, 10.92746243,\n",
    "9.82636432, 10.00284592, 10.68822271, 9.12046366, 10.28362732,\n",
    "9.19463348, 8.27233051, 9.60910021, 10.57380586, 10.33858905,\n",
    "9.98816951, 12.39236527, 10.41291216, 10.97873601, 12.23814334,\n",
    "8.70591468, 8.96121179, 11.74371223, 9.20193726, 10.02968323,\n",
    "11.06931597, 10.89070639, 11.75488618, 11.49564414, 11.06939267,\n",
    "9.22729129, 10.79486267, 10.31427199, 8.67373454, 11.41729905,\n",
    "10.80723653, 10.04549008, 9.76690794, 8.80169886, 10.19952407,\n",
    "10.46843912, 9.16884502, 11.16220405, 8.90279695, 7.87689965,\n",
    "11.03972709, 9.59663396, 9.87397041, 9.16248328, 8.39403724,\n",
    "11.25523737, 9.31113102, 11.66095249, 10.80730819, 9.68524185,\n",
    "8.9140976 , 9.26753801, 8.78747687, 12.08711336, 10.16444123,\n",
    "11.15020554, 8.73264795, 10.18103513, 11.17786194, 9.66498924,\n",
    "11.03111446, 8.91543209, 8.63652846, 10.37940061, 9.62082357]\n",
    "\n",
    "# Draw some random sample with replacement and append mean to mean_lengths.\n",
    "mean_lengths, sims = [], 1000\n",
    "for i in range(sims):\n",
    "    temp_sample = np.random.choice(wrench_lengths, replace=True, size=len(wrench_lengths))\n",
    "    sample_mean = np.mean(temp_sample)\n",
    "    mean_lengths.append(sample_mean)\n",
    "\n",
    "# Calculate bootstrapped mean and 95% confidence interval.\n",
    "boot_mean = np.mean(mean_lengths)\n",
    "boot_95_ci = np.percentile(mean_lengths, [2.5, 97.5])\n",
    "print(\"Bootstrapped Mean Length = {}, 95% CI = {}\".format(boot_mean, boot_95_ci))"
   ]
  },
  {
   "cell_type": "markdown",
   "id": "72f80348",
   "metadata": {},
   "source": [
    "# **Module 6 ANOVA**"
   ]
  },
  {
   "cell_type": "code",
   "execution_count": 29,
   "id": "87033b19",
   "metadata": {},
   "outputs": [
    {
     "data": {
      "image/png": "[encoded data removed]",
      "text/plain": [
       "<Figure size 432x288 with 1 Axes>"
      ]
     },
     "metadata": {
      "needs_background": "light"
     },
     "output_type": "display_data"
    },
    {
     "name": "stdout",
     "output_type": "stream",
     "text": [
      "F_onewayResult(statistic=37.302750273231275, pvalue=8.550900718103951e-17) \n",
      "\n",
      "Significant differences exist between the weights of athletes for each country.\n"
     ]
    }
   ],
   "source": [
    "#This task is to practise one-way ANOVA test\n",
    "from scipy import stats\n",
    "import pandas as pd\n",
    "import matplotlib.pyplot as plt\n",
    "\n",
    "# Read the dataset\n",
    "df30 = pd.read_csv(\"olyathswim.csv\")\n",
    "athletes=df30[df30.Sport == \"Athletics\"]\n",
    "\n",
    "# Create arrays for three datasets (in terms of \"weight\") to be compared\n",
    "# Use dropna() to remove the rows with missing value (i.e. weight = NA)\n",
    "France_athletes = athletes[athletes.Team == \"France\"].Weight.dropna()\n",
    "US_athletes = athletes[athletes.Team == \"United States\"].Weight.dropna()\n",
    "China_athletes = athletes[athletes.Team == \"China\"].Weight.dropna()\n",
    "\n",
    "# Create side-by-side boxplots for the athletes from three countries\n",
    "box_plot_data=[France_athletes, US_athletes, China_athletes]\n",
    "plt.boxplot(box_plot_data,patch_artist=True,labels=['French','United States','China'])\n",
    "plt.show()\n",
    "\n",
    "# Perform one-way ANOVA\n",
    "anova = stats.f_oneway(France_athletes, US_athletes, China_athletes)\n",
    "print(anova, \"\\n\")\n",
    "\n",
    "# Test significance\n",
    "alpha= 0.05\n",
    "if (anova[1] < alpha):\n",
    "    print(\"Significant differences exist between the weights of athletes for each country.\")\n",
    "else:\n",
    "    print (\"No significant differences exist between the weights of athletes for each country.\")"
   ]
  },
  {
   "cell_type": "code",
   "execution_count": 30,
   "id": "db101bfe",
   "metadata": {},
   "outputs": [
    {
     "data": {
      "text/html": [
       "<div>\n",
       "<style scoped>\n",
       "    .dataframe tbody tr th:only-of-type {\n",
       "        vertical-align: middle;\n",
       "    }\n",
       "\n",
       "    .dataframe tbody tr th {\n",
       "        vertical-align: top;\n",
       "    }\n",
       "\n",
       "    .dataframe thead th {\n",
       "        text-align: right;\n",
       "    }\n",
       "</style>\n",
       "<table border=\"1\" class=\"dataframe\">\n",
       "  <thead>\n",
       "    <tr style=\"text-align: right;\">\n",
       "      <th></th>\n",
       "      <th>Unnamed: 0</th>\n",
       "      <th>Name</th>\n",
       "      <th>Sex</th>\n",
       "      <th>Age</th>\n",
       "      <th>Height</th>\n",
       "      <th>Weight</th>\n",
       "      <th>Team</th>\n",
       "      <th>NOC</th>\n",
       "      <th>Games</th>\n",
       "      <th>Year</th>\n",
       "      <th>City</th>\n",
       "      <th>Sport</th>\n",
       "      <th>Event</th>\n",
       "      <th>Medal</th>\n",
       "    </tr>\n",
       "  </thead>\n",
       "  <tbody>\n",
       "    <tr>\n",
       "      <th>0</th>\n",
       "      <td>27</td>\n",
       "      <td>Cornelia \"Cor\" Aalten (-Strannood)</td>\n",
       "      <td>F</td>\n",
       "      <td>18.0</td>\n",
       "      <td>168.0</td>\n",
       "      <td>NaN</td>\n",
       "      <td>Netherlands</td>\n",
       "      <td>NED</td>\n",
       "      <td>1932 Summer</td>\n",
       "      <td>1932</td>\n",
       "      <td>Los Angeles</td>\n",
       "      <td>Athletics</td>\n",
       "      <td>Athletics Women's 100 metres</td>\n",
       "      <td>NaN</td>\n",
       "    </tr>\n",
       "    <tr>\n",
       "      <th>1</th>\n",
       "      <td>28</td>\n",
       "      <td>Cornelia \"Cor\" Aalten (-Strannood)</td>\n",
       "      <td>F</td>\n",
       "      <td>18.0</td>\n",
       "      <td>168.0</td>\n",
       "      <td>NaN</td>\n",
       "      <td>Netherlands</td>\n",
       "      <td>NED</td>\n",
       "      <td>1932 Summer</td>\n",
       "      <td>1932</td>\n",
       "      <td>Los Angeles</td>\n",
       "      <td>Athletics</td>\n",
       "      <td>Athletics Women's 4 x 100 metres Relay</td>\n",
       "      <td>NaN</td>\n",
       "    </tr>\n",
       "    <tr>\n",
       "      <th>2</th>\n",
       "      <td>30</td>\n",
       "      <td>Einar Ferdinand \"Einari\" Aalto</td>\n",
       "      <td>M</td>\n",
       "      <td>26.0</td>\n",
       "      <td>NaN</td>\n",
       "      <td>NaN</td>\n",
       "      <td>Finland</td>\n",
       "      <td>FIN</td>\n",
       "      <td>1952 Summer</td>\n",
       "      <td>1952</td>\n",
       "      <td>Helsinki</td>\n",
       "      <td>Swimming</td>\n",
       "      <td>Swimming Men's 400 metres Freestyle</td>\n",
       "      <td>NaN</td>\n",
       "    </tr>\n",
       "    <tr>\n",
       "      <th>3</th>\n",
       "      <td>36</td>\n",
       "      <td>Arvo Ossian Aaltonen</td>\n",
       "      <td>M</td>\n",
       "      <td>22.0</td>\n",
       "      <td>NaN</td>\n",
       "      <td>NaN</td>\n",
       "      <td>Finland</td>\n",
       "      <td>FIN</td>\n",
       "      <td>1912 Summer</td>\n",
       "      <td>1912</td>\n",
       "      <td>Stockholm</td>\n",
       "      <td>Swimming</td>\n",
       "      <td>Swimming Men's 200 metres Breaststroke</td>\n",
       "      <td>NaN</td>\n",
       "    </tr>\n",
       "    <tr>\n",
       "      <th>4</th>\n",
       "      <td>37</td>\n",
       "      <td>Arvo Ossian Aaltonen</td>\n",
       "      <td>M</td>\n",
       "      <td>22.0</td>\n",
       "      <td>NaN</td>\n",
       "      <td>NaN</td>\n",
       "      <td>Finland</td>\n",
       "      <td>FIN</td>\n",
       "      <td>1912 Summer</td>\n",
       "      <td>1912</td>\n",
       "      <td>Stockholm</td>\n",
       "      <td>Swimming</td>\n",
       "      <td>Swimming Men's 400 metres Breaststroke</td>\n",
       "      <td>NaN</td>\n",
       "    </tr>\n",
       "    <tr>\n",
       "      <th>...</th>\n",
       "      <td>...</td>\n",
       "      <td>...</td>\n",
       "      <td>...</td>\n",
       "      <td>...</td>\n",
       "      <td>...</td>\n",
       "      <td>...</td>\n",
       "      <td>...</td>\n",
       "      <td>...</td>\n",
       "      <td>...</td>\n",
       "      <td>...</td>\n",
       "      <td>...</td>\n",
       "      <td>...</td>\n",
       "      <td>...</td>\n",
       "      <td>...</td>\n",
       "    </tr>\n",
       "    <tr>\n",
       "      <th>61814</th>\n",
       "      <td>271088</td>\n",
       "      <td>Bogusaw Stanisaw Zychowicz</td>\n",
       "      <td>M</td>\n",
       "      <td>19.0</td>\n",
       "      <td>189.0</td>\n",
       "      <td>80.0</td>\n",
       "      <td>Poland</td>\n",
       "      <td>POL</td>\n",
       "      <td>1980 Summer</td>\n",
       "      <td>1980</td>\n",
       "      <td>Moskva</td>\n",
       "      <td>Swimming</td>\n",
       "      <td>Swimming Men's 100 metres Butterfly</td>\n",
       "      <td>NaN</td>\n",
       "    </tr>\n",
       "    <tr>\n",
       "      <th>61815</th>\n",
       "      <td>271089</td>\n",
       "      <td>Bogusaw Stanisaw Zychowicz</td>\n",
       "      <td>M</td>\n",
       "      <td>19.0</td>\n",
       "      <td>189.0</td>\n",
       "      <td>80.0</td>\n",
       "      <td>Poland</td>\n",
       "      <td>POL</td>\n",
       "      <td>1980 Summer</td>\n",
       "      <td>1980</td>\n",
       "      <td>Moskva</td>\n",
       "      <td>Swimming</td>\n",
       "      <td>Swimming Men's 200 metres Butterfly</td>\n",
       "      <td>NaN</td>\n",
       "    </tr>\n",
       "    <tr>\n",
       "      <th>61816</th>\n",
       "      <td>271101</td>\n",
       "      <td>Frantiek Zyka</td>\n",
       "      <td>M</td>\n",
       "      <td>26.0</td>\n",
       "      <td>NaN</td>\n",
       "      <td>NaN</td>\n",
       "      <td>Czechoslovakia</td>\n",
       "      <td>TCH</td>\n",
       "      <td>1928 Summer</td>\n",
       "      <td>1928</td>\n",
       "      <td>Amsterdam</td>\n",
       "      <td>Athletics</td>\n",
       "      <td>Athletics Men's Marathon</td>\n",
       "      <td>NaN</td>\n",
       "    </tr>\n",
       "    <tr>\n",
       "      <th>61817</th>\n",
       "      <td>271103</td>\n",
       "      <td>Olesya Nikolayevna Zykina</td>\n",
       "      <td>F</td>\n",
       "      <td>19.0</td>\n",
       "      <td>171.0</td>\n",
       "      <td>64.0</td>\n",
       "      <td>Russia</td>\n",
       "      <td>RUS</td>\n",
       "      <td>2000 Summer</td>\n",
       "      <td>2000</td>\n",
       "      <td>Sydney</td>\n",
       "      <td>Athletics</td>\n",
       "      <td>Athletics Women's 4 x 400 metres Relay</td>\n",
       "      <td>Bronze</td>\n",
       "    </tr>\n",
       "    <tr>\n",
       "      <th>61818</th>\n",
       "      <td>271104</td>\n",
       "      <td>Olesya Nikolayevna Zykina</td>\n",
       "      <td>F</td>\n",
       "      <td>23.0</td>\n",
       "      <td>171.0</td>\n",
       "      <td>64.0</td>\n",
       "      <td>Russia</td>\n",
       "      <td>RUS</td>\n",
       "      <td>2004 Summer</td>\n",
       "      <td>2004</td>\n",
       "      <td>Athina</td>\n",
       "      <td>Athletics</td>\n",
       "      <td>Athletics Women's 4 x 400 metres Relay</td>\n",
       "      <td>Silver</td>\n",
       "    </tr>\n",
       "  </tbody>\n",
       "</table>\n",
       "<p>61819 rows × 14 columns</p>\n",
       "</div>"
      ],
      "text/plain": [
       "       Unnamed: 0                                Name Sex   Age  Height  \\\n",
       "0              27  Cornelia \"Cor\" Aalten (-Strannood)   F  18.0   168.0   \n",
       "1              28  Cornelia \"Cor\" Aalten (-Strannood)   F  18.0   168.0   \n",
       "2              30      Einar Ferdinand \"Einari\" Aalto   M  26.0     NaN   \n",
       "3              36                Arvo Ossian Aaltonen   M  22.0     NaN   \n",
       "4              37                Arvo Ossian Aaltonen   M  22.0     NaN   \n",
       "...           ...                                 ...  ..   ...     ...   \n",
       "61814      271088          Bogusaw Stanisaw Zychowicz   M  19.0   189.0   \n",
       "61815      271089          Bogusaw Stanisaw Zychowicz   M  19.0   189.0   \n",
       "61816      271101                       Frantiek Zyka   M  26.0     NaN   \n",
       "61817      271103           Olesya Nikolayevna Zykina   F  19.0   171.0   \n",
       "61818      271104           Olesya Nikolayevna Zykina   F  23.0   171.0   \n",
       "\n",
       "       Weight            Team  NOC        Games  Year         City      Sport  \\\n",
       "0         NaN     Netherlands  NED  1932 Summer  1932  Los Angeles  Athletics   \n",
       "1         NaN     Netherlands  NED  1932 Summer  1932  Los Angeles  Athletics   \n",
       "2         NaN         Finland  FIN  1952 Summer  1952     Helsinki   Swimming   \n",
       "3         NaN         Finland  FIN  1912 Summer  1912    Stockholm   Swimming   \n",
       "4         NaN         Finland  FIN  1912 Summer  1912    Stockholm   Swimming   \n",
       "...       ...             ...  ...          ...   ...          ...        ...   \n",
       "61814    80.0          Poland  POL  1980 Summer  1980       Moskva   Swimming   \n",
       "61815    80.0          Poland  POL  1980 Summer  1980       Moskva   Swimming   \n",
       "61816     NaN  Czechoslovakia  TCH  1928 Summer  1928    Amsterdam  Athletics   \n",
       "61817    64.0          Russia  RUS  2000 Summer  2000       Sydney  Athletics   \n",
       "61818    64.0          Russia  RUS  2004 Summer  2004       Athina  Athletics   \n",
       "\n",
       "                                        Event   Medal  \n",
       "0                Athletics Women's 100 metres     NaN  \n",
       "1      Athletics Women's 4 x 100 metres Relay     NaN  \n",
       "2         Swimming Men's 400 metres Freestyle     NaN  \n",
       "3      Swimming Men's 200 metres Breaststroke     NaN  \n",
       "4      Swimming Men's 400 metres Breaststroke     NaN  \n",
       "...                                       ...     ...  \n",
       "61814     Swimming Men's 100 metres Butterfly     NaN  \n",
       "61815     Swimming Men's 200 metres Butterfly     NaN  \n",
       "61816                Athletics Men's Marathon     NaN  \n",
       "61817  Athletics Women's 4 x 400 metres Relay  Bronze  \n",
       "61818  Athletics Women's 4 x 400 metres Relay  Silver  \n",
       "\n",
       "[61819 rows x 14 columns]"
      ]
     },
     "execution_count": 30,
     "metadata": {},
     "output_type": "execute_result"
    }
   ],
   "source": [
    "df30"
   ]
  },
  {
   "cell_type": "code",
   "execution_count": 21,
   "id": "e15d7c90",
   "metadata": {},
   "outputs": [
    {
     "name": "stdout",
     "output_type": "stream",
     "text": [
      "                 sum_sq      df           F         PR(>F)\n",
      "Sex       130639.961475     1.0  556.693074  4.214237e-114\n",
      "Team         130.523646     1.0    0.556197   4.558481e-01\n",
      "Residual  796474.844541  3394.0         NaN            NaN\n"
     ]
    },
    {
     "data": {
      "image/png": "[encoded data removed]",
      "text/plain": [
       "<Figure size 432x288 with 1 Axes>"
      ]
     },
     "metadata": {
      "needs_background": "light"
     },
     "output_type": "display_data"
    }
   ],
   "source": [
    "# This task is to practise two-way ANOVA which involves two factors with 2+ levels.\n",
    "import pandas as pd\n",
    "import statsmodels.api as sm\n",
    "import statsmodels.formula.api as smf\n",
    "import seaborn as sns\n",
    "\n",
    "# Read the dataset\n",
    "df = pd.read_csv(\"olyathswim.csv\")\n",
    "all_athletes=df[df.Sport == \"Athletics\" ].dropna(subset=[\"Weight\"])\n",
    "\n",
    "# Filter out the athletes from US and China only\n",
    "athletes=all_athletes[all_athletes.Team.isin([\"United States\", \"China\"])]\n",
    "sns.boxplot(y='Weight', x='Team',\n",
    "                data=athletes,\n",
    "                palette=\"colorblind\",\n",
    "                hue='Sex')\n",
    "\n",
    "# Create model\n",
    "formula = 'Weight ~ Sex + Team'\n",
    "model = smf.ols(formula, data=athletes).fit()\n",
    "\n",
    "# Perform two-way ANOVA and print ANOVA table\n",
    "aov_table = sm.stats.anova_lm(model, typ=2)\n",
    "print(aov_table)\n",
    "\n",
    "# p-values are shown in the rightmost columns \"PR(>F)\"\n",
    "# Results show Sex has a significant effect, while Team has no significant effect\n"
   ]
  },
  {
   "cell_type": "code",
   "execution_count": 4,
   "id": "5a42d2ab",
   "metadata": {},
   "outputs": [
    {
     "ename": "NameError",
     "evalue": "name 'plt' is not defined",
     "output_type": "error",
     "traceback": [
      "\u001b[0;31m---------------------------------------------------------------------------\u001b[0m",
      "\u001b[0;31mNameError\u001b[0m                                 Traceback (most recent call last)",
      "\u001b[0;32m/var/folders/t0/vv75knk555sbfc42cx0y7wg80000gn/T/ipykernel_14523/3968676493.py\u001b[0m in \u001b[0;36m<module>\u001b[0;34m\u001b[0m\n\u001b[1;32m     16\u001b[0m                 \u001b[0mpalette\u001b[0m\u001b[0;34m=\u001b[0m\u001b[0;34m\"colorblind\"\u001b[0m\u001b[0;34m,\u001b[0m\u001b[0;34m\u001b[0m\u001b[0;34m\u001b[0m\u001b[0m\n\u001b[1;32m     17\u001b[0m                 hue='Manure')\n\u001b[0;32m---> 18\u001b[0;31m \u001b[0mplt\u001b[0m\u001b[0;34m.\u001b[0m\u001b[0mshow\u001b[0m\u001b[0;34m(\u001b[0m\u001b[0;34m)\u001b[0m\u001b[0;34m\u001b[0m\u001b[0;34m\u001b[0m\u001b[0m\n\u001b[0m\u001b[1;32m     19\u001b[0m \u001b[0;34m\u001b[0m\u001b[0m\n\u001b[1;32m     20\u001b[0m sns.boxplot(y='Yield', x='Manure',\n",
      "\u001b[0;31mNameError\u001b[0m: name 'plt' is not defined"
     ]
    },
    {
     "data": {
      "image/png": "[encoded data removed]",
      "text/plain": [
       "<Figure size 432x288 with 1 Axes>"
      ]
     },
     "metadata": {
      "needs_background": "light"
     },
     "output_type": "display_data"
    }
   ],
   "source": [
    "import pandas as pd\n",
    "import statsmodels.api as sm\n",
    "import statsmodels.formula.api as smf\n",
    "import seaborn as sns\n",
    "# This is a second examples on two-way ANOVA.\n",
    "\n",
    "# This test involves two factors, i.e., fertilizer and manure.\n",
    "# Each factor was measured in a binary manner (High and Low).\n",
    "# Read the dataset\n",
    "df80 = pd.read_csv(\"Yield.csv\")\n",
    "\n",
    "# generate a boxplot to see the data distribution by fertilizer and manure\n",
    "# Using boxplot, we can easily detect the differences between different groups\n",
    "sns.boxplot(y='Yield', x='Fertilizer',\n",
    "                data=df80,\n",
    "                palette=\"colorblind\",\n",
    "                hue='Manure')\n",
    "plt.show()\n",
    "\n",
    "sns.boxplot(y='Yield', x='Manure',\n",
    "                data=df80,\n",
    "                palette=\"colorblind\",\n",
    "                hue='Fertilizer')\n",
    "plt.show()\n",
    "\n",
    "# Create model\n",
    "formula = 'Yield ~ Fertilizer + Manure'\n",
    "model = smf.ols(formula, data=df80).fit()\n",
    "\n",
    "# Perform two-way ANOVA test and print results (type 2 result)\n",
    "aov_table2 = sm.stats.anova_lm(model, typ=2)\n",
    "print(aov_table2)\n",
    "\n",
    "# Perform ANOVA test and print results (type 1 result)\n",
    "aov_table1 = sm.stats.anova_lm(model, typ=1)\n",
    "print(aov_table1)\n",
    "\n",
    "# The result shows there is strong evidence that the mean corn yield depends on fertilizer level\n",
    "# Similarly, there is strong evidence that the mean corn yield also depends on the manure level."
   ]
  },
  {
   "cell_type": "code",
   "execution_count": 5,
   "id": "a643597c",
   "metadata": {},
   "outputs": [
    {
     "data": {
      "text/html": [
       "<div>\n",
       "<style scoped>\n",
       "    .dataframe tbody tr th:only-of-type {\n",
       "        vertical-align: middle;\n",
       "    }\n",
       "\n",
       "    .dataframe tbody tr th {\n",
       "        vertical-align: top;\n",
       "    }\n",
       "\n",
       "    .dataframe thead th {\n",
       "        text-align: right;\n",
       "    }\n",
       "</style>\n",
       "<table border=\"1\" class=\"dataframe\">\n",
       "  <thead>\n",
       "    <tr style=\"text-align: right;\">\n",
       "      <th></th>\n",
       "      <th>Yield</th>\n",
       "      <th>Fertilizer</th>\n",
       "      <th>Manure</th>\n",
       "    </tr>\n",
       "  </thead>\n",
       "  <tbody>\n",
       "    <tr>\n",
       "      <th>0</th>\n",
       "      <td>13.7</td>\n",
       "      <td>High</td>\n",
       "      <td>High</td>\n",
       "    </tr>\n",
       "    <tr>\n",
       "      <th>1</th>\n",
       "      <td>15.8</td>\n",
       "      <td>High</td>\n",
       "      <td>High</td>\n",
       "    </tr>\n",
       "    <tr>\n",
       "      <th>2</th>\n",
       "      <td>13.9</td>\n",
       "      <td>High</td>\n",
       "      <td>High</td>\n",
       "    </tr>\n",
       "    <tr>\n",
       "      <th>3</th>\n",
       "      <td>16.6</td>\n",
       "      <td>High</td>\n",
       "      <td>High</td>\n",
       "    </tr>\n",
       "    <tr>\n",
       "      <th>4</th>\n",
       "      <td>15.5</td>\n",
       "      <td>High</td>\n",
       "      <td>High</td>\n",
       "    </tr>\n",
       "    <tr>\n",
       "      <th>5</th>\n",
       "      <td>16.4</td>\n",
       "      <td>High</td>\n",
       "      <td>Low</td>\n",
       "    </tr>\n",
       "    <tr>\n",
       "      <th>6</th>\n",
       "      <td>12.5</td>\n",
       "      <td>High</td>\n",
       "      <td>Low</td>\n",
       "    </tr>\n",
       "    <tr>\n",
       "      <th>7</th>\n",
       "      <td>14.1</td>\n",
       "      <td>High</td>\n",
       "      <td>Low</td>\n",
       "    </tr>\n",
       "    <tr>\n",
       "      <th>8</th>\n",
       "      <td>14.4</td>\n",
       "      <td>High</td>\n",
       "      <td>Low</td>\n",
       "    </tr>\n",
       "    <tr>\n",
       "      <th>9</th>\n",
       "      <td>12.2</td>\n",
       "      <td>High</td>\n",
       "      <td>Low</td>\n",
       "    </tr>\n",
       "    <tr>\n",
       "      <th>10</th>\n",
       "      <td>15.0</td>\n",
       "      <td>Low</td>\n",
       "      <td>High</td>\n",
       "    </tr>\n",
       "    <tr>\n",
       "      <th>11</th>\n",
       "      <td>15.1</td>\n",
       "      <td>Low</td>\n",
       "      <td>High</td>\n",
       "    </tr>\n",
       "    <tr>\n",
       "      <th>12</th>\n",
       "      <td>12.0</td>\n",
       "      <td>Low</td>\n",
       "      <td>High</td>\n",
       "    </tr>\n",
       "    <tr>\n",
       "      <th>13</th>\n",
       "      <td>15.7</td>\n",
       "      <td>Low</td>\n",
       "      <td>High</td>\n",
       "    </tr>\n",
       "    <tr>\n",
       "      <th>14</th>\n",
       "      <td>12.2</td>\n",
       "      <td>Low</td>\n",
       "      <td>High</td>\n",
       "    </tr>\n",
       "    <tr>\n",
       "      <th>15</th>\n",
       "      <td>12.4</td>\n",
       "      <td>Low</td>\n",
       "      <td>Low</td>\n",
       "    </tr>\n",
       "    <tr>\n",
       "      <th>16</th>\n",
       "      <td>10.6</td>\n",
       "      <td>Low</td>\n",
       "      <td>Low</td>\n",
       "    </tr>\n",
       "    <tr>\n",
       "      <th>17</th>\n",
       "      <td>13.7</td>\n",
       "      <td>Low</td>\n",
       "      <td>Low</td>\n",
       "    </tr>\n",
       "    <tr>\n",
       "      <th>18</th>\n",
       "      <td>8.7</td>\n",
       "      <td>Low</td>\n",
       "      <td>Low</td>\n",
       "    </tr>\n",
       "    <tr>\n",
       "      <th>19</th>\n",
       "      <td>10.9</td>\n",
       "      <td>Low</td>\n",
       "      <td>Low</td>\n",
       "    </tr>\n",
       "  </tbody>\n",
       "</table>\n",
       "</div>"
      ],
      "text/plain": [
       "    Yield Fertilizer Manure\n",
       "0    13.7       High   High\n",
       "1    15.8       High   High\n",
       "2    13.9       High   High\n",
       "3    16.6       High   High\n",
       "4    15.5       High   High\n",
       "5    16.4       High    Low\n",
       "6    12.5       High    Low\n",
       "7    14.1       High    Low\n",
       "8    14.4       High    Low\n",
       "9    12.2       High    Low\n",
       "10   15.0        Low   High\n",
       "11   15.1        Low   High\n",
       "12   12.0        Low   High\n",
       "13   15.7        Low   High\n",
       "14   12.2        Low   High\n",
       "15   12.4        Low    Low\n",
       "16   10.6        Low    Low\n",
       "17   13.7        Low    Low\n",
       "18    8.7        Low    Low\n",
       "19   10.9        Low    Low"
      ]
     },
     "execution_count": 5,
     "metadata": {},
     "output_type": "execute_result"
    }
   ],
   "source": [
    "df80"
   ]
  },
  {
   "cell_type": "code",
   "execution_count": 23,
   "id": "2fa8b467",
   "metadata": {},
   "outputs": [
    {
     "name": "stdout",
     "output_type": "stream",
     "text": [
      "                           df  sum_sq  mean_sq         F    PR(>F)\n",
      "C(Fertilizer)             1.0  17.672   17.672  6.368288  0.022578\n",
      "C(Manure)                 1.0  19.208   19.208  6.921802  0.018162\n",
      "C(Fertilizer):C(Manure)   1.0   3.042    3.042  1.096216  0.310658\n",
      "Residual                 16.0  44.400    2.775       NaN       NaN\n"
     ]
    },
    {
     "data": {
      "image/png": "[encoded data removed]",
      "text/plain": [
       "<Figure size 432x288 with 1 Axes>"
      ]
     },
     "metadata": {
      "needs_background": "light"
     },
     "output_type": "display_data"
    }
   ],
   "source": [
    "# This is to test the interaction effect between factors in two-way ANOVA\n",
    "model = smf.ols('Yield ~ C(Fertilizer) + C(Manure) + C(Fertilizer):C(Manure)', data=df).fit()\n",
    "anova_table = sm.stats.anova_lm(model, typ=1)\n",
    "print(anova_table)\n",
    "\n",
    "# output\n",
    "from statsmodels.graphics.factorplots import interaction_plot\n",
    "import matplotlib.pyplot as plt\n",
    "fig = interaction_plot(x=df['Fertilizer'], trace=df['Manure'], response=df['Yield'],\n",
    "colors=['Blue','Green'])\n",
    "plt.show()\n",
    "\n",
    "# The ANOVA test result gives p-value =0.31. This is not much evidence of interaction between two factors."
   ]
  },
  {
   "cell_type": "code",
   "execution_count": 10,
   "id": "905f7731",
   "metadata": {},
   "outputs": [
    {
     "ename": "NameError",
     "evalue": "name 'plt' is not defined",
     "output_type": "error",
     "traceback": [
      "\u001b[0;31m---------------------------------------------------------------------------\u001b[0m",
      "\u001b[0;31mNameError\u001b[0m                                 Traceback (most recent call last)",
      "\u001b[0;32m/var/folders/t0/vv75knk555sbfc42cx0y7wg80000gn/T/ipykernel_14523/2040488441.py\u001b[0m in \u001b[0;36m<module>\u001b[0;34m\u001b[0m\n\u001b[1;32m     16\u001b[0m                 \u001b[0mpalette\u001b[0m\u001b[0;34m=\u001b[0m\u001b[0;34m\"colorblind\"\u001b[0m\u001b[0;34m,\u001b[0m\u001b[0;34m\u001b[0m\u001b[0;34m\u001b[0m\u001b[0m\n\u001b[1;32m     17\u001b[0m                 hue='Labs')\n\u001b[0;32m---> 18\u001b[0;31m \u001b[0mplt\u001b[0m\u001b[0;34m.\u001b[0m\u001b[0mshow\u001b[0m\u001b[0;34m(\u001b[0m\u001b[0;34m)\u001b[0m\u001b[0;34m\u001b[0m\u001b[0;34m\u001b[0m\u001b[0m\n\u001b[0m\u001b[1;32m     19\u001b[0m \u001b[0;34m\u001b[0m\u001b[0m\n\u001b[1;32m     20\u001b[0m sns.boxplot(y='Materials', x='Labs',\n",
      "\u001b[0;31mNameError\u001b[0m: name 'plt' is not defined"
     ]
    },
    {
     "data": {
      "image/png": "[encoded data removed]",
      "text/plain": [
       "<Figure size 432x288 with 1 Axes>"
      ]
     },
     "metadata": {
      "needs_background": "light"
     },
     "output_type": "display_data"
    }
   ],
   "source": [
    "# This is another example of two-way ANOVA test.\n",
    "import pandas as pd\n",
    "import statsmodels.api as sm\n",
    "import statsmodels.formula.api as smf\n",
    "import seaborn as sns\n",
    "\n",
    "# The dataset contains five laboratories that are employed to analyse a material using four different methods.\n",
    "# Here we are looking to answer whether each of the two factors,\n",
    "# i.e., labs (A to E) and methods (I to IV) has effect on the material analysis result.\n",
    "df = pd.read_csv(\"Materials.csv\")\n",
    "\n",
    "# generate a boxplot to see the data distribution by fertilizer and manure\n",
    "# Using boxplot, we can easily detect the differences between different groups\n",
    "sns.boxplot(y='Materials', x='Methods',\n",
    "                data=df,\n",
    "                palette=\"colorblind\",\n",
    "                hue='Labs')\n",
    "plt.show()\n",
    "\n",
    "sns.boxplot(y='Materials', x='Labs',\n",
    "            data=df,\n",
    "            palette=\"colorblind\",\n",
    "            hue='Methods')\n",
    "plt.show()\n",
    "\n",
    "# Create model\n",
    "formula = 'Materials ~ Methods + Labs'\n",
    "model = smf.ols(formula, data=df).fit()\n",
    "\n",
    "# Perform ANOVA test and print results (type 2 result)\n",
    "aov_table2 = sm.stats.anova_lm(model, typ=2)\n",
    "print(aov_table2)\n",
    "\n",
    "# Perform two-way ANOVA test and print results (type 1 result)\n",
    "aov_table1 = sm.stats.anova_lm(model, typ=1)\n",
    "print(aov_table1)\n",
    "model = smf.ols('Materials ~ C(Methods) + C(Labs) + C(Methods):C(Labs)', data=df).fit()\n",
    "anova_table = sm.stats.anova_lm(model, typ=1)\n",
    "print(anova_table)\n",
    "\n",
    "# output\n",
    "from statsmodels.graphics.factorplots import interaction_plot\n",
    "import matplotlib.pyplot as plt\n",
    "fig = interaction_plot(x=df['Methods'], trace=df['Labs'], response=df['Materials'],\n",
    "    colors=['Blue','Green', 'Red', 'Yellow', 'Pink'])\n",
    "plt.show()\n",
    "\n",
    "# Can you interpret the result and make your conclusion?"
   ]
  },
  {
   "cell_type": "code",
   "execution_count": 7,
   "id": "37ca9161",
   "metadata": {},
   "outputs": [
    {
     "data": {
      "text/html": [
       "<div>\n",
       "<style scoped>\n",
       "    .dataframe tbody tr th:only-of-type {\n",
       "        vertical-align: middle;\n",
       "    }\n",
       "\n",
       "    .dataframe tbody tr th {\n",
       "        vertical-align: top;\n",
       "    }\n",
       "\n",
       "    .dataframe thead th {\n",
       "        text-align: right;\n",
       "    }\n",
       "</style>\n",
       "<table border=\"1\" class=\"dataframe\">\n",
       "  <thead>\n",
       "    <tr style=\"text-align: right;\">\n",
       "      <th></th>\n",
       "      <th>Materials</th>\n",
       "      <th>Methods</th>\n",
       "      <th>Labs</th>\n",
       "    </tr>\n",
       "  </thead>\n",
       "  <tbody>\n",
       "    <tr>\n",
       "      <th>0</th>\n",
       "      <td>12.8</td>\n",
       "      <td>I</td>\n",
       "      <td>A</td>\n",
       "    </tr>\n",
       "    <tr>\n",
       "      <th>1</th>\n",
       "      <td>10.6</td>\n",
       "      <td>I</td>\n",
       "      <td>B</td>\n",
       "    </tr>\n",
       "    <tr>\n",
       "      <th>2</th>\n",
       "      <td>11.7</td>\n",
       "      <td>I</td>\n",
       "      <td>C</td>\n",
       "    </tr>\n",
       "    <tr>\n",
       "      <th>3</th>\n",
       "      <td>10.7</td>\n",
       "      <td>I</td>\n",
       "      <td>D</td>\n",
       "    </tr>\n",
       "    <tr>\n",
       "      <th>4</th>\n",
       "      <td>11.0</td>\n",
       "      <td>I</td>\n",
       "      <td>E</td>\n",
       "    </tr>\n",
       "    <tr>\n",
       "      <th>5</th>\n",
       "      <td>11.7</td>\n",
       "      <td>II</td>\n",
       "      <td>A</td>\n",
       "    </tr>\n",
       "    <tr>\n",
       "      <th>6</th>\n",
       "      <td>14.2</td>\n",
       "      <td>II</td>\n",
       "      <td>B</td>\n",
       "    </tr>\n",
       "    <tr>\n",
       "      <th>7</th>\n",
       "      <td>11.8</td>\n",
       "      <td>II</td>\n",
       "      <td>C</td>\n",
       "    </tr>\n",
       "    <tr>\n",
       "      <th>8</th>\n",
       "      <td>9.9</td>\n",
       "      <td>II</td>\n",
       "      <td>D</td>\n",
       "    </tr>\n",
       "    <tr>\n",
       "      <th>9</th>\n",
       "      <td>13.8</td>\n",
       "      <td>II</td>\n",
       "      <td>E</td>\n",
       "    </tr>\n",
       "    <tr>\n",
       "      <th>10</th>\n",
       "      <td>11.5</td>\n",
       "      <td>III</td>\n",
       "      <td>A</td>\n",
       "    </tr>\n",
       "    <tr>\n",
       "      <th>11</th>\n",
       "      <td>14.7</td>\n",
       "      <td>III</td>\n",
       "      <td>B</td>\n",
       "    </tr>\n",
       "    <tr>\n",
       "      <th>12</th>\n",
       "      <td>13.6</td>\n",
       "      <td>III</td>\n",
       "      <td>C</td>\n",
       "    </tr>\n",
       "    <tr>\n",
       "      <th>13</th>\n",
       "      <td>10.7</td>\n",
       "      <td>III</td>\n",
       "      <td>D</td>\n",
       "    </tr>\n",
       "    <tr>\n",
       "      <th>14</th>\n",
       "      <td>15.9</td>\n",
       "      <td>III</td>\n",
       "      <td>E</td>\n",
       "    </tr>\n",
       "    <tr>\n",
       "      <th>15</th>\n",
       "      <td>12.6</td>\n",
       "      <td>IV</td>\n",
       "      <td>A</td>\n",
       "    </tr>\n",
       "    <tr>\n",
       "      <th>16</th>\n",
       "      <td>16.5</td>\n",
       "      <td>IV</td>\n",
       "      <td>B</td>\n",
       "    </tr>\n",
       "    <tr>\n",
       "      <th>17</th>\n",
       "      <td>15.4</td>\n",
       "      <td>IV</td>\n",
       "      <td>C</td>\n",
       "    </tr>\n",
       "    <tr>\n",
       "      <th>18</th>\n",
       "      <td>9.6</td>\n",
       "      <td>IV</td>\n",
       "      <td>D</td>\n",
       "    </tr>\n",
       "    <tr>\n",
       "      <th>19</th>\n",
       "      <td>17.1</td>\n",
       "      <td>IV</td>\n",
       "      <td>E</td>\n",
       "    </tr>\n",
       "  </tbody>\n",
       "</table>\n",
       "</div>"
      ],
      "text/plain": [
       "    Materials Methods Labs\n",
       "0        12.8       I    A\n",
       "1        10.6       I    B\n",
       "2        11.7       I    C\n",
       "3        10.7       I    D\n",
       "4        11.0       I    E\n",
       "5        11.7      II    A\n",
       "6        14.2      II    B\n",
       "7        11.8      II    C\n",
       "8         9.9      II    D\n",
       "9        13.8      II    E\n",
       "10       11.5     III    A\n",
       "11       14.7     III    B\n",
       "12       13.6     III    C\n",
       "13       10.7     III    D\n",
       "14       15.9     III    E\n",
       "15       12.6      IV    A\n",
       "16       16.5      IV    B\n",
       "17       15.4      IV    C\n",
       "18        9.6      IV    D\n",
       "19       17.1      IV    E"
      ]
     },
     "execution_count": 7,
     "metadata": {},
     "output_type": "execute_result"
    }
   ],
   "source": [
    "df20"
   ]
  },
  {
   "cell_type": "code",
   "execution_count": 13,
   "id": "a83be19c",
   "metadata": {},
   "outputs": [
    {
     "ename": "NameError",
     "evalue": "name 'plt' is not defined",
     "output_type": "error",
     "traceback": [
      "\u001b[0;31m---------------------------------------------------------------------------\u001b[0m",
      "\u001b[0;31mNameError\u001b[0m                                 Traceback (most recent call last)",
      "\u001b[0;32m/var/folders/t0/vv75knk555sbfc42cx0y7wg80000gn/T/ipykernel_14523/2040488441.py\u001b[0m in \u001b[0;36m<module>\u001b[0;34m\u001b[0m\n\u001b[1;32m     16\u001b[0m                 \u001b[0mpalette\u001b[0m\u001b[0;34m=\u001b[0m\u001b[0;34m\"colorblind\"\u001b[0m\u001b[0;34m,\u001b[0m\u001b[0;34m\u001b[0m\u001b[0;34m\u001b[0m\u001b[0m\n\u001b[1;32m     17\u001b[0m                 hue='Labs')\n\u001b[0;32m---> 18\u001b[0;31m \u001b[0mplt\u001b[0m\u001b[0;34m.\u001b[0m\u001b[0mshow\u001b[0m\u001b[0;34m(\u001b[0m\u001b[0;34m)\u001b[0m\u001b[0;34m\u001b[0m\u001b[0;34m\u001b[0m\u001b[0m\n\u001b[0m\u001b[1;32m     19\u001b[0m \u001b[0;34m\u001b[0m\u001b[0m\n\u001b[1;32m     20\u001b[0m sns.boxplot(y='Materials', x='Labs',\n",
      "\u001b[0;31mNameError\u001b[0m: name 'plt' is not defined"
     ]
    },
    {
     "data": {
      "image/png": "[encoded data removed]",
      "text/plain": [
       "<Figure size 432x288 with 1 Axes>"
      ]
     },
     "metadata": {
      "needs_background": "light"
     },
     "output_type": "display_data"
    }
   ],
   "source": [
    "# This is another example of two-way ANOVA test.\n",
    "import pandas as pd\n",
    "import statsmodels.api as sm\n",
    "import statsmodels.formula.api as smf\n",
    "import seaborn as sns\n",
    "\n",
    "# The dataset contains five laboratories that are employed to analyse a material using four different methods.\n",
    "# Here we are looking to answer whether each of the two factors,\n",
    "# i.e., labs (A to E) and methods (I to IV) has effect on the material analysis result.\n",
    "df = pd.read_csv(\"Materials.csv\")\n",
    "\n",
    "# generate a boxplot to see the data distribution by fertilizer and manure\n",
    "# Using boxplot, we can easily detect the differences between different groups\n",
    "sns.boxplot(y='Materials', x='Methods',\n",
    "                data=df,\n",
    "                palette=\"colorblind\",\n",
    "                hue='Labs')\n",
    "plt.show()\n",
    "\n",
    "sns.boxplot(y='Materials', x='Labs',\n",
    "            data=df,\n",
    "            palette=\"colorblind\",\n",
    "            hue='Methods')\n",
    "plt.show()\n",
    "\n",
    "# Create model\n",
    "formula = 'Materials ~ Methods + Labs'\n",
    "model = smf.ols(formula, data=df).fit()\n",
    "\n",
    "# Perform ANOVA test and print results (type 2 result)\n",
    "aov_table2 = sm.stats.anova_lm(model, typ=2)\n",
    "print(aov_table2)\n",
    "\n",
    "# Perform two-way ANOVA test and print results (type 1 result)\n",
    "aov_table1 = sm.stats.anova_lm(model, typ=1)\n",
    "print(aov_table1)\n",
    "model = smf.ols('Materials ~ C(Methods) + C(Labs) + C(Methods):C(Labs)', data=df).fit()\n",
    "anova_table = sm.stats.anova_lm(model, typ=1)\n",
    "print(anova_table)\n",
    "\n",
    "# output\n",
    "from statsmodels.graphics.factorplots import interaction_plot\n",
    "import matplotlib.pyplot as plt\n",
    "fig = interaction_plot(x=df['Methods'], trace=df['Labs'], response=df['Materials'],\n",
    "    colors=['Blue','Green', 'Red', 'Yellow', 'Pink'])\n",
    "plt.show()\n",
    "\n",
    "# Can you interpret the result and make your conclusion?"
   ]
  },
  {
   "cell_type": "code",
   "execution_count": null,
   "id": "a10d7460",
   "metadata": {},
   "outputs": [],
   "source": []
  }
 ],
 "metadata": {
  "kernelspec": {
   "display_name": "Python 3 (ipykernel)",
   "language": "python",
   "name": "python3"
  },
  "language_info": {
   "codemirror_mode": {
    "name": "ipython",
    "version": 3
   },
   "file_extension": ".py",
   "mimetype": "text/x-python",
   "name": "python",
   "nbconvert_exporter": "python",
   "pygments_lexer": "ipython3",
   "version": "3.9.7"
  }
 },
 "nbformat": 4,
 "nbformat_minor": 5
}
